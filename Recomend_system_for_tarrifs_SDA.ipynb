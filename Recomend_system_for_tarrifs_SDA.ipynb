{
 "cells": [
  {
   "cell_type": "markdown",
   "metadata": {
    "id": "-vIB1N-bg9se"
   },
   "source": [
    "# Статистический анализ использования телефонных тарифов"
   ]
  },
  {
   "cell_type": "markdown",
   "metadata": {
    "id": "e1-9w_kVfgAI"
   },
   "source": [
    "**Описание проекта**\n",
    "\n",
    "Работа от лица аналитика компании **«Мегалайн»** — федерального оператора сотовой связи. Клиентам предлагают два тарифных плана: _«Смарт»_ и _«Ультра»_. Чтобы скорректировать рекламный бюджет, коммерческий департамент хочет понять, какой тариф приносит больше денег.\n",
    "\n",
    "Предстоит сделать предварительный анализ тарифов на небольшой выборке клиентов. В распоряжении данные 500 пользователей «Мегалайна»: кто они, откуда, каким тарифом пользуются, сколько звонков и сообщений каждый отправил за 2018-й год. Нужно проанализировать поведение клиентов и сделать вывод — какой тариф лучше.\n",
    "\n",
    "**Описание тарифов**\n",
    "\n",
    "Тариф _«Смарт»_\n",
    "1. Ежемесячная плата: 550 рублей\n",
    "2. Включено 500 минут разговора, 50 сообщений и 15 Гб интернет-трафика\n",
    "3. Стоимость услуг сверх тарифного пакета:\n",
    "    - Минута разговора — 3 рубля. Количество использованных минут и мегабайтов «Мегалайн» всегда округляет вверх. Если пользователь проговорил всего 1 секунду, в тарифе засчитывается целая минута.\n",
    "    - Сообщение — 3 рубля.\n",
    "    - 1 Гб интернет-трафика — 200 рублей.\n",
    "\n",
    "Тариф _«Ультра»_\n",
    "1. Ежемесячная плата: 1950 рублей\n",
    "2. Включено 3000 минут разговора, 1000 сообщений и 30 Гб интернет-трафика\n",
    "3. Стоимость услуг сверх тарифного пакета:\n",
    "    - Минута разговора — 1 рубль;\n",
    "    - Сообщение — 1 рубль;\n",
    "    - 1 Гб интернет-трафика: 150 рублей."
   ]
  },
  {
   "cell_type": "markdown",
   "metadata": {
    "id": "uW1tvTnki8Nb"
   },
   "source": [
    "**План работы:**\n",
    "1. [Обзор данных](#section_1),\n",
    "2. [Предобработка данных](#section_2),\n",
    "3. [Исследование данных](#section_3),\n",
    "4. [Проверка гипотез](#section_4),\n",
    "5. [Итоги исследования](#section_5)."
   ]
  },
  {
   "cell_type": "markdown",
   "metadata": {
    "deletable": false,
    "editable": false,
    "id": "y_ZMUi_qfgAP"
   },
   "source": [
    "<a id='section_1'></a>\n",
    "## Обзор данных"
   ]
  },
  {
   "cell_type": "markdown",
   "metadata": {
    "deletable": false,
    "editable": false,
    "id": "61c029d7"
   },
   "source": [
    "Импорт библиотек."
   ]
  },
  {
   "cell_type": "code",
   "execution_count": 1,
   "metadata": {
    "deletable": false,
    "id": "Z2nzXyFpfgAM"
   },
   "outputs": [],
   "source": [
    "import numpy as np\n",
    "import pandas as pd\n",
    "import seaborn as sns\n",
    "import matplotlib.pyplot as plt\n",
    "from scipy import stats as st\n",
    "\n",
    "FIG_SIZE = (13, 5) # размер графиков"
   ]
  },
  {
   "cell_type": "markdown",
   "metadata": {
    "deletable": false,
    "editable": false,
    "id": "59Dob48efgAQ",
    "tags": [
     "start_task"
    ]
   },
   "source": [
    "Чтение файла `/datasets/calls.csv`, сохранение датафрейма в переменной `calls`."
   ]
  },
  {
   "cell_type": "code",
   "execution_count": 2,
   "metadata": {
    "deletable": false,
    "id": "3XNe_6RpfgAQ"
   },
   "outputs": [],
   "source": [
    "calls = pd.read_csv('datasets/calls.csv')"
   ]
  },
  {
   "cell_type": "markdown",
   "metadata": {
    "deletable": false,
    "editable": false,
    "id": "ahsmA3IwfgAR",
    "tags": [
     "start_task"
    ]
   },
   "source": [
    "Вывод первые 5 строк датафрейма `calls`."
   ]
  },
  {
   "cell_type": "code",
   "execution_count": 3,
   "metadata": {
    "deletable": false,
    "id": "eYk2EJC2fgAR",
    "outputId": "1a8432b4-e426-4008-d12e-94ecc0f4b6a8"
   },
   "outputs": [
    {
     "data": {
      "text/html": [
       "<div>\n",
       "<style scoped>\n",
       "    .dataframe tbody tr th:only-of-type {\n",
       "        vertical-align: middle;\n",
       "    }\n",
       "\n",
       "    .dataframe tbody tr th {\n",
       "        vertical-align: top;\n",
       "    }\n",
       "\n",
       "    .dataframe thead th {\n",
       "        text-align: right;\n",
       "    }\n",
       "</style>\n",
       "<table border=\"1\" class=\"dataframe\">\n",
       "  <thead>\n",
       "    <tr style=\"text-align: right;\">\n",
       "      <th></th>\n",
       "      <th>id</th>\n",
       "      <th>call_date</th>\n",
       "      <th>duration</th>\n",
       "      <th>user_id</th>\n",
       "    </tr>\n",
       "  </thead>\n",
       "  <tbody>\n",
       "    <tr>\n",
       "      <th>0</th>\n",
       "      <td>1000_0</td>\n",
       "      <td>2018-07-25</td>\n",
       "      <td>0.00</td>\n",
       "      <td>1000</td>\n",
       "    </tr>\n",
       "    <tr>\n",
       "      <th>1</th>\n",
       "      <td>1000_1</td>\n",
       "      <td>2018-08-17</td>\n",
       "      <td>0.00</td>\n",
       "      <td>1000</td>\n",
       "    </tr>\n",
       "    <tr>\n",
       "      <th>2</th>\n",
       "      <td>1000_2</td>\n",
       "      <td>2018-06-11</td>\n",
       "      <td>2.85</td>\n",
       "      <td>1000</td>\n",
       "    </tr>\n",
       "    <tr>\n",
       "      <th>3</th>\n",
       "      <td>1000_3</td>\n",
       "      <td>2018-09-21</td>\n",
       "      <td>13.80</td>\n",
       "      <td>1000</td>\n",
       "    </tr>\n",
       "    <tr>\n",
       "      <th>4</th>\n",
       "      <td>1000_4</td>\n",
       "      <td>2018-12-15</td>\n",
       "      <td>5.18</td>\n",
       "      <td>1000</td>\n",
       "    </tr>\n",
       "  </tbody>\n",
       "</table>\n",
       "</div>"
      ],
      "text/plain": [
       "       id   call_date  duration  user_id\n",
       "0  1000_0  2018-07-25      0.00     1000\n",
       "1  1000_1  2018-08-17      0.00     1000\n",
       "2  1000_2  2018-06-11      2.85     1000\n",
       "3  1000_3  2018-09-21     13.80     1000\n",
       "4  1000_4  2018-12-15      5.18     1000"
      ]
     },
     "execution_count": 3,
     "metadata": {},
     "output_type": "execute_result"
    }
   ],
   "source": [
    "calls.head()"
   ]
  },
  {
   "cell_type": "markdown",
   "metadata": {
    "deletable": false,
    "editable": false,
    "id": "APR4mPmbfgAS",
    "tags": [
     "start_task"
    ]
   },
   "source": [
    "Вывод основной информацию для датафрейма `calls`."
   ]
  },
  {
   "cell_type": "code",
   "execution_count": 4,
   "metadata": {
    "deletable": false,
    "id": "6E2SgH8zfgAT",
    "outputId": "6e790e36-dd6e-4f64-ed76-ad5c5330753a"
   },
   "outputs": [
    {
     "name": "stdout",
     "output_type": "stream",
     "text": [
      "<class 'pandas.core.frame.DataFrame'>\n",
      "RangeIndex: 202607 entries, 0 to 202606\n",
      "Data columns (total 4 columns):\n",
      " #   Column     Non-Null Count   Dtype  \n",
      "---  ------     --------------   -----  \n",
      " 0   id         202607 non-null  object \n",
      " 1   call_date  202607 non-null  object \n",
      " 2   duration   202607 non-null  float64\n",
      " 3   user_id    202607 non-null  int64  \n",
      "dtypes: float64(1), int64(1), object(2)\n",
      "memory usage: 6.2+ MB\n"
     ]
    }
   ],
   "source": [
    "calls.info()"
   ]
  },
  {
   "cell_type": "markdown",
   "metadata": {
    "deletable": false,
    "editable": false,
    "id": "USpaGQRJfgAU",
    "tags": [
     "start_task"
    ]
   },
   "source": [
    "Вывод гистограммы с помощью метода `hist()` для столбца с продолжительностью звонков."
   ]
  },
  {
   "cell_type": "code",
   "execution_count": 5,
   "metadata": {
    "deletable": false,
    "id": "I91s6ICVfgAV",
    "outputId": "cc81d161-72ab-4056-bd06-a2a4ac1b5679"
   },
   "outputs": [
    {
     "data": {
      "text/plain": [
       "<Axes: >"
      ]
     },
     "execution_count": 5,
     "metadata": {},
     "output_type": "execute_result"
    },
    {
     "data": {
      "image/png": "[encoded data removed]",
      "text/plain": [
       "<Figure size 1300x500 with 1 Axes>"
      ]
     },
     "metadata": {},
     "output_type": "display_data"
    }
   ],
   "source": [
    "calls['duration'].hist(bins=30, figsize=FIG_SIZE)"
   ]
  },
  {
   "cell_type": "markdown",
   "metadata": {
    "deletable": false,
    "editable": false,
    "id": "x4zj44KNfgAV",
    "tags": [
     "start_task"
    ]
   },
   "source": [
    "Чтение файла `/datasets/internet.csv`, сохранение датафрейм в переменной `sessions`."
   ]
  },
  {
   "cell_type": "code",
   "execution_count": 6,
   "metadata": {
    "deletable": false,
    "id": "CgDHA1T5fgAW"
   },
   "outputs": [],
   "source": [
    "sessions = pd.read_csv('datasets/internet.csv')"
   ]
  },
  {
   "cell_type": "markdown",
   "metadata": {
    "deletable": false,
    "editable": false,
    "id": "BAr-6ZqifgAX",
    "tags": [
     "start_task"
    ]
   },
   "source": [
    "Вывод первые 5 строк датафрейма `sessions`."
   ]
  },
  {
   "cell_type": "code",
   "execution_count": 7,
   "metadata": {
    "deletable": false,
    "id": "WzU0xBqofgAX",
    "outputId": "0edcb835-6f4a-4cc6-c9f3-191c672a201b"
   },
   "outputs": [
    {
     "data": {
      "text/html": [
       "<div>\n",
       "<style scoped>\n",
       "    .dataframe tbody tr th:only-of-type {\n",
       "        vertical-align: middle;\n",
       "    }\n",
       "\n",
       "    .dataframe tbody tr th {\n",
       "        vertical-align: top;\n",
       "    }\n",
       "\n",
       "    .dataframe thead th {\n",
       "        text-align: right;\n",
       "    }\n",
       "</style>\n",
       "<table border=\"1\" class=\"dataframe\">\n",
       "  <thead>\n",
       "    <tr style=\"text-align: right;\">\n",
       "      <th></th>\n",
       "      <th>Unnamed: 0</th>\n",
       "      <th>id</th>\n",
       "      <th>mb_used</th>\n",
       "      <th>session_date</th>\n",
       "      <th>user_id</th>\n",
       "    </tr>\n",
       "  </thead>\n",
       "  <tbody>\n",
       "    <tr>\n",
       "      <th>0</th>\n",
       "      <td>0</td>\n",
       "      <td>1000_0</td>\n",
       "      <td>112.95</td>\n",
       "      <td>2018-11-25</td>\n",
       "      <td>1000</td>\n",
       "    </tr>\n",
       "    <tr>\n",
       "      <th>1</th>\n",
       "      <td>1</td>\n",
       "      <td>1000_1</td>\n",
       "      <td>1052.81</td>\n",
       "      <td>2018-09-07</td>\n",
       "      <td>1000</td>\n",
       "    </tr>\n",
       "    <tr>\n",
       "      <th>2</th>\n",
       "      <td>2</td>\n",
       "      <td>1000_2</td>\n",
       "      <td>1197.26</td>\n",
       "      <td>2018-06-25</td>\n",
       "      <td>1000</td>\n",
       "    </tr>\n",
       "    <tr>\n",
       "      <th>3</th>\n",
       "      <td>3</td>\n",
       "      <td>1000_3</td>\n",
       "      <td>550.27</td>\n",
       "      <td>2018-08-22</td>\n",
       "      <td>1000</td>\n",
       "    </tr>\n",
       "    <tr>\n",
       "      <th>4</th>\n",
       "      <td>4</td>\n",
       "      <td>1000_4</td>\n",
       "      <td>302.56</td>\n",
       "      <td>2018-09-24</td>\n",
       "      <td>1000</td>\n",
       "    </tr>\n",
       "  </tbody>\n",
       "</table>\n",
       "</div>"
      ],
      "text/plain": [
       "   Unnamed: 0      id  mb_used session_date  user_id\n",
       "0           0  1000_0   112.95   2018-11-25     1000\n",
       "1           1  1000_1  1052.81   2018-09-07     1000\n",
       "2           2  1000_2  1197.26   2018-06-25     1000\n",
       "3           3  1000_3   550.27   2018-08-22     1000\n",
       "4           4  1000_4   302.56   2018-09-24     1000"
      ]
     },
     "execution_count": 7,
     "metadata": {},
     "output_type": "execute_result"
    }
   ],
   "source": [
    "sessions.head()"
   ]
  },
  {
   "cell_type": "markdown",
   "metadata": {
    "deletable": false,
    "editable": false,
    "id": "8VrQRiFbfgAY",
    "tags": [
     "start_task"
    ]
   },
   "source": [
    "Вывод основной информацию для датафрейма `sessions`. "
   ]
  },
  {
   "cell_type": "code",
   "execution_count": 8,
   "metadata": {
    "deletable": false,
    "id": "VsBy_LNtfgAY",
    "outputId": "261e0a51-1cdb-4a88-9cd7-6afeb7cf9475"
   },
   "outputs": [
    {
     "name": "stdout",
     "output_type": "stream",
     "text": [
      "<class 'pandas.core.frame.DataFrame'>\n",
      "RangeIndex: 149396 entries, 0 to 149395\n",
      "Data columns (total 5 columns):\n",
      " #   Column        Non-Null Count   Dtype  \n",
      "---  ------        --------------   -----  \n",
      " 0   Unnamed: 0    149396 non-null  int64  \n",
      " 1   id            149396 non-null  object \n",
      " 2   mb_used       149396 non-null  float64\n",
      " 3   session_date  149396 non-null  object \n",
      " 4   user_id       149396 non-null  int64  \n",
      "dtypes: float64(1), int64(2), object(2)\n",
      "memory usage: 5.7+ MB\n"
     ]
    }
   ],
   "source": [
    "sessions.info()"
   ]
  },
  {
   "cell_type": "markdown",
   "metadata": {
    "deletable": false,
    "editable": false,
    "id": "mGE4vxzrfgAZ",
    "tags": [
     "start_task"
    ]
   },
   "source": [
    "Вывод гистограммы с помощью метода `hist()` для столбца с количеством потраченных мегабайт."
   ]
  },
  {
   "cell_type": "code",
   "execution_count": 9,
   "metadata": {
    "deletable": false,
    "id": "-YSjLav7fgAZ",
    "outputId": "d6b7968f-db31-4d72-b51a-782eacdc6556"
   },
   "outputs": [
    {
     "data": {
      "text/plain": [
       "<Axes: >"
      ]
     },
     "execution_count": 9,
     "metadata": {},
     "output_type": "execute_result"
    },
    {
     "data": {
      "image/png": "[encoded data removed]",
      "text/plain": [
       "<Figure size 1300x500 with 1 Axes>"
      ]
     },
     "metadata": {},
     "output_type": "display_data"
    }
   ],
   "source": [
    "sessions['mb_used'].hist(bins=100, figsize=FIG_SIZE)"
   ]
  },
  {
   "cell_type": "markdown",
   "metadata": {
    "deletable": false,
    "editable": false,
    "id": "c2XkDONTfgAa",
    "tags": [
     "start_task"
    ]
   },
   "source": [
    "Чтение файла `/datasets/messages.csv`, сохранение датафрейм в переменной `messages`."
   ]
  },
  {
   "cell_type": "code",
   "execution_count": 10,
   "metadata": {
    "deletable": false,
    "id": "qLFjG1HsfgAa"
   },
   "outputs": [],
   "source": [
    "messages = pd.read_csv('datasets/messages.csv')"
   ]
  },
  {
   "cell_type": "markdown",
   "metadata": {
    "deletable": false,
    "editable": false,
    "id": "0_kPhqzvfgAb",
    "tags": [
     "start_task"
    ]
   },
   "source": [
    "Вывод первые 5 строк датафрейма `messages`."
   ]
  },
  {
   "cell_type": "code",
   "execution_count": 11,
   "metadata": {
    "deletable": false,
    "id": "MfdM1gbBfgAb",
    "outputId": "16b885e2-985b-4bf3-b30b-96c020bf2323"
   },
   "outputs": [
    {
     "data": {
      "text/html": [
       "<div>\n",
       "<style scoped>\n",
       "    .dataframe tbody tr th:only-of-type {\n",
       "        vertical-align: middle;\n",
       "    }\n",
       "\n",
       "    .dataframe tbody tr th {\n",
       "        vertical-align: top;\n",
       "    }\n",
       "\n",
       "    .dataframe thead th {\n",
       "        text-align: right;\n",
       "    }\n",
       "</style>\n",
       "<table border=\"1\" class=\"dataframe\">\n",
       "  <thead>\n",
       "    <tr style=\"text-align: right;\">\n",
       "      <th></th>\n",
       "      <th>id</th>\n",
       "      <th>message_date</th>\n",
       "      <th>user_id</th>\n",
       "    </tr>\n",
       "  </thead>\n",
       "  <tbody>\n",
       "    <tr>\n",
       "      <th>0</th>\n",
       "      <td>1000_0</td>\n",
       "      <td>2018-06-27</td>\n",
       "      <td>1000</td>\n",
       "    </tr>\n",
       "    <tr>\n",
       "      <th>1</th>\n",
       "      <td>1000_1</td>\n",
       "      <td>2018-10-08</td>\n",
       "      <td>1000</td>\n",
       "    </tr>\n",
       "    <tr>\n",
       "      <th>2</th>\n",
       "      <td>1000_2</td>\n",
       "      <td>2018-08-04</td>\n",
       "      <td>1000</td>\n",
       "    </tr>\n",
       "    <tr>\n",
       "      <th>3</th>\n",
       "      <td>1000_3</td>\n",
       "      <td>2018-06-16</td>\n",
       "      <td>1000</td>\n",
       "    </tr>\n",
       "    <tr>\n",
       "      <th>4</th>\n",
       "      <td>1000_4</td>\n",
       "      <td>2018-12-05</td>\n",
       "      <td>1000</td>\n",
       "    </tr>\n",
       "  </tbody>\n",
       "</table>\n",
       "</div>"
      ],
      "text/plain": [
       "       id message_date  user_id\n",
       "0  1000_0   2018-06-27     1000\n",
       "1  1000_1   2018-10-08     1000\n",
       "2  1000_2   2018-08-04     1000\n",
       "3  1000_3   2018-06-16     1000\n",
       "4  1000_4   2018-12-05     1000"
      ]
     },
     "execution_count": 11,
     "metadata": {},
     "output_type": "execute_result"
    }
   ],
   "source": [
    "messages.head()"
   ]
  },
  {
   "cell_type": "markdown",
   "metadata": {
    "deletable": false,
    "editable": false,
    "id": "0kGkPPcZfgAb",
    "tags": [
     "start_task"
    ]
   },
   "source": [
    "Вывод основной информации для датафрейма `messages`. "
   ]
  },
  {
   "cell_type": "code",
   "execution_count": 12,
   "metadata": {
    "deletable": false,
    "id": "KvBNFJuhfgAc",
    "outputId": "ed0b0e90-3e47-42d0-b96f-580de35524bb"
   },
   "outputs": [
    {
     "name": "stdout",
     "output_type": "stream",
     "text": [
      "<class 'pandas.core.frame.DataFrame'>\n",
      "RangeIndex: 123036 entries, 0 to 123035\n",
      "Data columns (total 3 columns):\n",
      " #   Column        Non-Null Count   Dtype \n",
      "---  ------        --------------   ----- \n",
      " 0   id            123036 non-null  object\n",
      " 1   message_date  123036 non-null  object\n",
      " 2   user_id       123036 non-null  int64 \n",
      "dtypes: int64(1), object(2)\n",
      "memory usage: 2.8+ MB\n"
     ]
    }
   ],
   "source": [
    "messages.info()"
   ]
  },
  {
   "cell_type": "markdown",
   "metadata": {
    "deletable": false,
    "editable": false,
    "id": "AB4qoU8NfgAc",
    "tags": [
     "start_task"
    ]
   },
   "source": [
    "Чтение файла `/datasets/tariffs.csv`, сохранение датафрейм в переменной `tariffs`."
   ]
  },
  {
   "cell_type": "code",
   "execution_count": 13,
   "metadata": {
    "deletable": false,
    "id": "UDtg5Tn_fgAd"
   },
   "outputs": [],
   "source": [
    "tariffs = pd.read_csv('datasets/tariffs.csv')"
   ]
  },
  {
   "cell_type": "markdown",
   "metadata": {
    "deletable": false,
    "editable": false,
    "id": "XbYv_kjLfgAd",
    "tags": [
     "start_task"
    ]
   },
   "source": [
    "Вывод всего датафрейма `tariffs`."
   ]
  },
  {
   "cell_type": "code",
   "execution_count": 14,
   "metadata": {
    "deletable": false,
    "id": "XekmvApdfgAe",
    "outputId": "6ca93470-c10e-4634-9c19-03de22f8b478"
   },
   "outputs": [
    {
     "data": {
      "text/html": [
       "<div>\n",
       "<style scoped>\n",
       "    .dataframe tbody tr th:only-of-type {\n",
       "        vertical-align: middle;\n",
       "    }\n",
       "\n",
       "    .dataframe tbody tr th {\n",
       "        vertical-align: top;\n",
       "    }\n",
       "\n",
       "    .dataframe thead th {\n",
       "        text-align: right;\n",
       "    }\n",
       "</style>\n",
       "<table border=\"1\" class=\"dataframe\">\n",
       "  <thead>\n",
       "    <tr style=\"text-align: right;\">\n",
       "      <th></th>\n",
       "      <th>messages_included</th>\n",
       "      <th>mb_per_month_included</th>\n",
       "      <th>minutes_included</th>\n",
       "      <th>rub_monthly_fee</th>\n",
       "      <th>rub_per_gb</th>\n",
       "      <th>rub_per_message</th>\n",
       "      <th>rub_per_minute</th>\n",
       "      <th>tariff_name</th>\n",
       "    </tr>\n",
       "  </thead>\n",
       "  <tbody>\n",
       "    <tr>\n",
       "      <th>0</th>\n",
       "      <td>50</td>\n",
       "      <td>15360</td>\n",
       "      <td>500</td>\n",
       "      <td>550</td>\n",
       "      <td>200</td>\n",
       "      <td>3</td>\n",
       "      <td>3</td>\n",
       "      <td>smart</td>\n",
       "    </tr>\n",
       "    <tr>\n",
       "      <th>1</th>\n",
       "      <td>1000</td>\n",
       "      <td>30720</td>\n",
       "      <td>3000</td>\n",
       "      <td>1950</td>\n",
       "      <td>150</td>\n",
       "      <td>1</td>\n",
       "      <td>1</td>\n",
       "      <td>ultra</td>\n",
       "    </tr>\n",
       "  </tbody>\n",
       "</table>\n",
       "</div>"
      ],
      "text/plain": [
       "   messages_included  mb_per_month_included  minutes_included  \\\n",
       "0                 50                  15360               500   \n",
       "1               1000                  30720              3000   \n",
       "\n",
       "   rub_monthly_fee  rub_per_gb  rub_per_message  rub_per_minute tariff_name  \n",
       "0              550         200                3               3       smart  \n",
       "1             1950         150                1               1       ultra  "
      ]
     },
     "execution_count": 14,
     "metadata": {},
     "output_type": "execute_result"
    }
   ],
   "source": [
    "tariffs"
   ]
  },
  {
   "cell_type": "markdown",
   "metadata": {
    "deletable": false,
    "editable": false,
    "id": "lOaalg2JfgAe",
    "tags": [
     "start_task"
    ]
   },
   "source": [
    "Вывод основной информацию для датафрейма `tariffs`."
   ]
  },
  {
   "cell_type": "code",
   "execution_count": 15,
   "metadata": {
    "deletable": false,
    "id": "g9FROfFlfgAf",
    "outputId": "1085103c-10a5-40bb-e02a-18516a4fa658"
   },
   "outputs": [
    {
     "name": "stdout",
     "output_type": "stream",
     "text": [
      "<class 'pandas.core.frame.DataFrame'>\n",
      "RangeIndex: 2 entries, 0 to 1\n",
      "Data columns (total 8 columns):\n",
      " #   Column                 Non-Null Count  Dtype \n",
      "---  ------                 --------------  ----- \n",
      " 0   messages_included      2 non-null      int64 \n",
      " 1   mb_per_month_included  2 non-null      int64 \n",
      " 2   minutes_included       2 non-null      int64 \n",
      " 3   rub_monthly_fee        2 non-null      int64 \n",
      " 4   rub_per_gb             2 non-null      int64 \n",
      " 5   rub_per_message        2 non-null      int64 \n",
      " 6   rub_per_minute         2 non-null      int64 \n",
      " 7   tariff_name            2 non-null      object\n",
      "dtypes: int64(7), object(1)\n",
      "memory usage: 260.0+ bytes\n"
     ]
    }
   ],
   "source": [
    "tariffs.info()"
   ]
  },
  {
   "cell_type": "markdown",
   "metadata": {
    "deletable": false,
    "editable": false,
    "id": "ISTL4zb7fgAg",
    "tags": [
     "start_task"
    ]
   },
   "source": [
    "Чтения файла `/datasets/users.csv`, сохранение датафрейма в переменнаой `users`."
   ]
  },
  {
   "cell_type": "code",
   "execution_count": 16,
   "metadata": {
    "deletable": false,
    "id": "FjZ66UOffgAg"
   },
   "outputs": [],
   "source": [
    "users = pd.read_csv('datasets/users.csv')"
   ]
  },
  {
   "cell_type": "markdown",
   "metadata": {
    "deletable": false,
    "editable": false,
    "id": "S3OAVyIkfgAg",
    "tags": [
     "start_task"
    ]
   },
   "source": [
    "Вывод первых 5 строк датафрейма `users`."
   ]
  },
  {
   "cell_type": "code",
   "execution_count": 17,
   "metadata": {
    "deletable": false,
    "id": "tGdaVnrBfgAh",
    "outputId": "fb3778e3-c01f-48a6-ddbc-7617d66b0499"
   },
   "outputs": [
    {
     "data": {
      "text/html": [
       "<div>\n",
       "<style scoped>\n",
       "    .dataframe tbody tr th:only-of-type {\n",
       "        vertical-align: middle;\n",
       "    }\n",
       "\n",
       "    .dataframe tbody tr th {\n",
       "        vertical-align: top;\n",
       "    }\n",
       "\n",
       "    .dataframe thead th {\n",
       "        text-align: right;\n",
       "    }\n",
       "</style>\n",
       "<table border=\"1\" class=\"dataframe\">\n",
       "  <thead>\n",
       "    <tr style=\"text-align: right;\">\n",
       "      <th></th>\n",
       "      <th>user_id</th>\n",
       "      <th>age</th>\n",
       "      <th>churn_date</th>\n",
       "      <th>city</th>\n",
       "      <th>first_name</th>\n",
       "      <th>last_name</th>\n",
       "      <th>reg_date</th>\n",
       "      <th>tariff</th>\n",
       "    </tr>\n",
       "  </thead>\n",
       "  <tbody>\n",
       "    <tr>\n",
       "      <th>0</th>\n",
       "      <td>1000</td>\n",
       "      <td>52</td>\n",
       "      <td>NaN</td>\n",
       "      <td>Краснодар</td>\n",
       "      <td>Рафаил</td>\n",
       "      <td>Верещагин</td>\n",
       "      <td>2018-05-25</td>\n",
       "      <td>ultra</td>\n",
       "    </tr>\n",
       "    <tr>\n",
       "      <th>1</th>\n",
       "      <td>1001</td>\n",
       "      <td>41</td>\n",
       "      <td>NaN</td>\n",
       "      <td>Москва</td>\n",
       "      <td>Иван</td>\n",
       "      <td>Ежов</td>\n",
       "      <td>2018-11-01</td>\n",
       "      <td>smart</td>\n",
       "    </tr>\n",
       "    <tr>\n",
       "      <th>2</th>\n",
       "      <td>1002</td>\n",
       "      <td>59</td>\n",
       "      <td>NaN</td>\n",
       "      <td>Стерлитамак</td>\n",
       "      <td>Евгений</td>\n",
       "      <td>Абрамович</td>\n",
       "      <td>2018-06-17</td>\n",
       "      <td>smart</td>\n",
       "    </tr>\n",
       "    <tr>\n",
       "      <th>3</th>\n",
       "      <td>1003</td>\n",
       "      <td>23</td>\n",
       "      <td>NaN</td>\n",
       "      <td>Москва</td>\n",
       "      <td>Белла</td>\n",
       "      <td>Белякова</td>\n",
       "      <td>2018-08-17</td>\n",
       "      <td>ultra</td>\n",
       "    </tr>\n",
       "    <tr>\n",
       "      <th>4</th>\n",
       "      <td>1004</td>\n",
       "      <td>68</td>\n",
       "      <td>NaN</td>\n",
       "      <td>Новокузнецк</td>\n",
       "      <td>Татьяна</td>\n",
       "      <td>Авдеенко</td>\n",
       "      <td>2018-05-14</td>\n",
       "      <td>ultra</td>\n",
       "    </tr>\n",
       "  </tbody>\n",
       "</table>\n",
       "</div>"
      ],
      "text/plain": [
       "   user_id  age churn_date         city first_name  last_name    reg_date  \\\n",
       "0     1000   52        NaN    Краснодар     Рафаил  Верещагин  2018-05-25   \n",
       "1     1001   41        NaN       Москва       Иван       Ежов  2018-11-01   \n",
       "2     1002   59        NaN  Стерлитамак    Евгений  Абрамович  2018-06-17   \n",
       "3     1003   23        NaN       Москва      Белла   Белякова  2018-08-17   \n",
       "4     1004   68        NaN  Новокузнецк    Татьяна   Авдеенко  2018-05-14   \n",
       "\n",
       "  tariff  \n",
       "0  ultra  \n",
       "1  smart  \n",
       "2  smart  \n",
       "3  ultra  \n",
       "4  ultra  "
      ]
     },
     "execution_count": 17,
     "metadata": {},
     "output_type": "execute_result"
    }
   ],
   "source": [
    "users.head()"
   ]
  },
  {
   "cell_type": "markdown",
   "metadata": {
    "deletable": false,
    "editable": false,
    "id": "1-sk-ZEQfgAh",
    "tags": [
     "start_task"
    ]
   },
   "source": [
    "Вывод основной информации для датафрейма `users`."
   ]
  },
  {
   "cell_type": "code",
   "execution_count": 18,
   "metadata": {
    "deletable": false,
    "id": "tW9hh-wJfgAi",
    "outputId": "65087277-7950-4f9c-d38e-c1fb31ce78da",
    "scrolled": false
   },
   "outputs": [
    {
     "name": "stdout",
     "output_type": "stream",
     "text": [
      "<class 'pandas.core.frame.DataFrame'>\n",
      "RangeIndex: 500 entries, 0 to 499\n",
      "Data columns (total 8 columns):\n",
      " #   Column      Non-Null Count  Dtype \n",
      "---  ------      --------------  ----- \n",
      " 0   user_id     500 non-null    int64 \n",
      " 1   age         500 non-null    int64 \n",
      " 2   churn_date  38 non-null     object\n",
      " 3   city        500 non-null    object\n",
      " 4   first_name  500 non-null    object\n",
      " 5   last_name   500 non-null    object\n",
      " 6   reg_date    500 non-null    object\n",
      " 7   tariff      500 non-null    object\n",
      "dtypes: int64(2), object(6)\n",
      "memory usage: 31.4+ KB\n"
     ]
    }
   ],
   "source": [
    "users.info()"
   ]
  },
  {
   "cell_type": "markdown",
   "metadata": {
    "deletable": false,
    "editable": false,
    "id": "ggLMI-02fgAi"
   },
   "source": [
    "<a id='section_2'></a>\n",
    "## Предобработка данных"
   ]
  },
  {
   "cell_type": "markdown",
   "metadata": {
    "deletable": false,
    "editable": false,
    "id": "T9Y-D-F8fgAj",
    "tags": [
     "start_task"
    ]
   },
   "source": [
    "Изменение типа данных к новому типу с помощью метода `to_datetime()`, для следующих столбцов:\n",
    "\n",
    "- `reg_date` из таблицы `users`\n",
    "- `churn_date` из таблицы `users`\n",
    "- `call_date` из таблицы `calls`\n",
    "- `message_date` из таблицы `messages`\n",
    "- `session_date` из таблицы `sessions`"
   ]
  },
  {
   "cell_type": "code",
   "execution_count": 19,
   "metadata": {
    "deletable": false,
    "id": "JC0-h8RafgBB"
   },
   "outputs": [],
   "source": [
    "users['reg_date'] = pd.to_datetime(users['reg_date'], format='%Y-%m-%d')\n",
    "users['churn_date'] = pd.to_datetime(users['churn_date'], format='%Y-%m-%d')\n",
    "\n",
    "calls['call_date'] = pd.to_datetime(calls['call_date'], format='%Y-%m-%d') \n",
    "\n",
    "messages['message_date'] = pd.to_datetime(messages['message_date'], format='%Y-%m-%d') \n",
    "sessions['session_date'] = pd.to_datetime(sessions['session_date'], format='%Y-%m-%d')"
   ]
  },
  {
   "cell_type": "markdown",
   "metadata": {
    "deletable": false,
    "editable": false,
    "id": "uV1gEY0bfgBB",
    "tags": [
     "start_task"
    ]
   },
   "source": [
    "В данных присутствуют звонки с нулевой продолжительностью. Это не ошибка: нулями обозначены _пропущенные звонки_, поэтому их не нужно удалять.\n",
    "\n",
    "Однако в столбце `duration` датафрейма `calls` значения дробные. Округлю значения столбца `duration` вверх с помощью метода `numpy.ceil()` и приведите столбец `duration` к типу `int`."
   ]
  },
  {
   "cell_type": "code",
   "execution_count": 20,
   "metadata": {
    "deletable": false,
    "id": "G5L5c3mKfgBC"
   },
   "outputs": [],
   "source": [
    "calls['duration'] = np.ceil(calls['duration'])      # округление столбца duration с помощью np.ceil()\n",
    "calls['duration'] = calls['duration'].astype('int') # приведение типа к 'int'"
   ]
  },
  {
   "cell_type": "markdown",
   "metadata": {
    "deletable": false,
    "editable": false,
    "id": "eC-4iMNLfgBC",
    "tags": [
     "start_task"
    ]
   },
   "source": [
    "Удалю столбец `Unnamed: 0` из датафрейма `sessions`. Столбец с таким названием возникает, когда данные сохраняют с указанием индекса (`df.to_csv(..., index=column)`). Он сейчас не понадобится."
   ]
  },
  {
   "cell_type": "code",
   "execution_count": 21,
   "metadata": {
    "deletable": false,
    "id": "tD22u9f2fgBD"
   },
   "outputs": [],
   "source": [
    "sessions = sessions.loc[:, 'id':'user_id']"
   ]
  },
  {
   "cell_type": "markdown",
   "metadata": {
    "deletable": false,
    "editable": false,
    "id": "tAfYj-xNfgBD",
    "tags": [
     "start_task"
    ]
   },
   "source": [
    "Создание столбеца `month` в датафрейме `calls` с номером месяца из столбца `call_date`."
   ]
  },
  {
   "cell_type": "code",
   "execution_count": 22,
   "metadata": {
    "deletable": false,
    "id": "MpF510AIfgBE"
   },
   "outputs": [],
   "source": [
    "calls['month'] = calls['call_date'].dt.month"
   ]
  },
  {
   "cell_type": "markdown",
   "metadata": {
    "deletable": false,
    "editable": false,
    "id": "a05Ct3FVfgBF",
    "tags": [
     "start_task"
    ]
   },
   "source": [
    "Создание столбеца `month` в датафрейме `messages` с номером месяца из столбца `message_date`."
   ]
  },
  {
   "cell_type": "code",
   "execution_count": 23,
   "metadata": {
    "deletable": false,
    "id": "fhQLWryffgBF"
   },
   "outputs": [],
   "source": [
    "messages['month'] = messages['message_date'].dt.month"
   ]
  },
  {
   "cell_type": "markdown",
   "metadata": {
    "deletable": false,
    "editable": false,
    "id": "XCFQgyUAfgBG",
    "tags": [
     "start_task"
    ]
   },
   "source": [
    "Создание столбеца `month` в датафрейме `sessions` с номером месяца из столбца `session_date`."
   ]
  },
  {
   "cell_type": "code",
   "execution_count": 24,
   "metadata": {
    "deletable": false,
    "id": "Y610J_hhfgBG"
   },
   "outputs": [],
   "source": [
    "sessions['month'] = sessions['session_date'].dt.month"
   ]
  },
  {
   "cell_type": "markdown",
   "metadata": {
    "deletable": false,
    "editable": false,
    "id": "BeKoLXOqfgBH",
    "tags": [
     "start_task"
    ]
   },
   "source": [
    "Подсчёт количества сделанных звонков разговора для каждого пользователя по месяцам."
   ]
  },
  {
   "cell_type": "code",
   "execution_count": 25,
   "metadata": {
    "deletable": false,
    "id": "xSQXih6ffgBI",
    "outputId": "c416ea7d-0e38-4ee4-b2a7-359aae044372",
    "scrolled": true
   },
   "outputs": [
    {
     "data": {
      "text/html": [
       "<div>\n",
       "<style scoped>\n",
       "    .dataframe tbody tr th:only-of-type {\n",
       "        vertical-align: middle;\n",
       "    }\n",
       "\n",
       "    .dataframe tbody tr th {\n",
       "        vertical-align: top;\n",
       "    }\n",
       "\n",
       "    .dataframe thead th {\n",
       "        text-align: right;\n",
       "    }\n",
       "</style>\n",
       "<table border=\"1\" class=\"dataframe\">\n",
       "  <thead>\n",
       "    <tr style=\"text-align: right;\">\n",
       "      <th></th>\n",
       "      <th></th>\n",
       "      <th>calls</th>\n",
       "    </tr>\n",
       "    <tr>\n",
       "      <th>user_id</th>\n",
       "      <th>month</th>\n",
       "      <th></th>\n",
       "    </tr>\n",
       "  </thead>\n",
       "  <tbody>\n",
       "    <tr>\n",
       "      <th rowspan=\"8\" valign=\"top\">1000</th>\n",
       "      <th>5</th>\n",
       "      <td>22</td>\n",
       "    </tr>\n",
       "    <tr>\n",
       "      <th>6</th>\n",
       "      <td>43</td>\n",
       "    </tr>\n",
       "    <tr>\n",
       "      <th>7</th>\n",
       "      <td>47</td>\n",
       "    </tr>\n",
       "    <tr>\n",
       "      <th>8</th>\n",
       "      <td>52</td>\n",
       "    </tr>\n",
       "    <tr>\n",
       "      <th>9</th>\n",
       "      <td>58</td>\n",
       "    </tr>\n",
       "    <tr>\n",
       "      <th>10</th>\n",
       "      <td>57</td>\n",
       "    </tr>\n",
       "    <tr>\n",
       "      <th>11</th>\n",
       "      <td>43</td>\n",
       "    </tr>\n",
       "    <tr>\n",
       "      <th>12</th>\n",
       "      <td>46</td>\n",
       "    </tr>\n",
       "    <tr>\n",
       "      <th rowspan=\"2\" valign=\"top\">1001</th>\n",
       "      <th>11</th>\n",
       "      <td>59</td>\n",
       "    </tr>\n",
       "    <tr>\n",
       "      <th>12</th>\n",
       "      <td>63</td>\n",
       "    </tr>\n",
       "    <tr>\n",
       "      <th rowspan=\"7\" valign=\"top\">1002</th>\n",
       "      <th>6</th>\n",
       "      <td>15</td>\n",
       "    </tr>\n",
       "    <tr>\n",
       "      <th>7</th>\n",
       "      <td>26</td>\n",
       "    </tr>\n",
       "    <tr>\n",
       "      <th>8</th>\n",
       "      <td>42</td>\n",
       "    </tr>\n",
       "    <tr>\n",
       "      <th>9</th>\n",
       "      <td>36</td>\n",
       "    </tr>\n",
       "    <tr>\n",
       "      <th>10</th>\n",
       "      <td>33</td>\n",
       "    </tr>\n",
       "    <tr>\n",
       "      <th>11</th>\n",
       "      <td>32</td>\n",
       "    </tr>\n",
       "    <tr>\n",
       "      <th>12</th>\n",
       "      <td>33</td>\n",
       "    </tr>\n",
       "    <tr>\n",
       "      <th rowspan=\"5\" valign=\"top\">1003</th>\n",
       "      <th>8</th>\n",
       "      <td>55</td>\n",
       "    </tr>\n",
       "    <tr>\n",
       "      <th>9</th>\n",
       "      <td>134</td>\n",
       "    </tr>\n",
       "    <tr>\n",
       "      <th>10</th>\n",
       "      <td>108</td>\n",
       "    </tr>\n",
       "    <tr>\n",
       "      <th>11</th>\n",
       "      <td>115</td>\n",
       "    </tr>\n",
       "    <tr>\n",
       "      <th>12</th>\n",
       "      <td>108</td>\n",
       "    </tr>\n",
       "    <tr>\n",
       "      <th rowspan=\"8\" valign=\"top\">1004</th>\n",
       "      <th>5</th>\n",
       "      <td>9</td>\n",
       "    </tr>\n",
       "    <tr>\n",
       "      <th>6</th>\n",
       "      <td>31</td>\n",
       "    </tr>\n",
       "    <tr>\n",
       "      <th>7</th>\n",
       "      <td>22</td>\n",
       "    </tr>\n",
       "    <tr>\n",
       "      <th>8</th>\n",
       "      <td>19</td>\n",
       "    </tr>\n",
       "    <tr>\n",
       "      <th>9</th>\n",
       "      <td>26</td>\n",
       "    </tr>\n",
       "    <tr>\n",
       "      <th>10</th>\n",
       "      <td>29</td>\n",
       "    </tr>\n",
       "    <tr>\n",
       "      <th>11</th>\n",
       "      <td>19</td>\n",
       "    </tr>\n",
       "    <tr>\n",
       "      <th>12</th>\n",
       "      <td>21</td>\n",
       "    </tr>\n",
       "  </tbody>\n",
       "</table>\n",
       "</div>"
      ],
      "text/plain": [
       "               calls\n",
       "user_id month       \n",
       "1000    5         22\n",
       "        6         43\n",
       "        7         47\n",
       "        8         52\n",
       "        9         58\n",
       "        10        57\n",
       "        11        43\n",
       "        12        46\n",
       "1001    11        59\n",
       "        12        63\n",
       "1002    6         15\n",
       "        7         26\n",
       "        8         42\n",
       "        9         36\n",
       "        10        33\n",
       "        11        32\n",
       "        12        33\n",
       "1003    8         55\n",
       "        9        134\n",
       "        10       108\n",
       "        11       115\n",
       "        12       108\n",
       "1004    5          9\n",
       "        6         31\n",
       "        7         22\n",
       "        8         19\n",
       "        9         26\n",
       "        10        29\n",
       "        11        19\n",
       "        12        21"
      ]
     },
     "metadata": {},
     "output_type": "display_data"
    }
   ],
   "source": [
    "calls_per_month = calls.groupby(['user_id', 'month']).agg(calls=('duration', 'count'))\n",
    "\n",
    "display(calls_per_month.head(30))"
   ]
  },
  {
   "cell_type": "markdown",
   "metadata": {
    "deletable": false,
    "editable": false,
    "id": "5aFnzZfbfgBJ",
    "tags": [
     "start_task"
    ]
   },
   "source": [
    "Подсчёт израсходованных минут для каждого пользователя по месяцам, и сохранение в переменную `minutes_per_month`. Понадобится:\n",
    "\n",
    "- сгруппировать датафрейм с информацией о звонках по двум столбцам — с идентификаторами пользователей и номерами месяцев;\n",
    "- после группировки выбрать столбец `duration`\n",
    "- затем применить метод для подсчёта суммы.\n",
    "\n",
    "Вывод первых 30 строчек `minutes_per_month`."
   ]
  },
  {
   "cell_type": "code",
   "execution_count": 26,
   "metadata": {
    "deletable": false,
    "id": "8PPjHN74fgBK",
    "outputId": "daa1275f-e33d-493a-b30a-379eef174a41",
    "scrolled": true
   },
   "outputs": [
    {
     "data": {
      "text/html": [
       "<div>\n",
       "<style scoped>\n",
       "    .dataframe tbody tr th:only-of-type {\n",
       "        vertical-align: middle;\n",
       "    }\n",
       "\n",
       "    .dataframe tbody tr th {\n",
       "        vertical-align: top;\n",
       "    }\n",
       "\n",
       "    .dataframe thead th {\n",
       "        text-align: right;\n",
       "    }\n",
       "</style>\n",
       "<table border=\"1\" class=\"dataframe\">\n",
       "  <thead>\n",
       "    <tr style=\"text-align: right;\">\n",
       "      <th></th>\n",
       "      <th></th>\n",
       "      <th>minutes</th>\n",
       "    </tr>\n",
       "    <tr>\n",
       "      <th>user_id</th>\n",
       "      <th>month</th>\n",
       "      <th></th>\n",
       "    </tr>\n",
       "  </thead>\n",
       "  <tbody>\n",
       "    <tr>\n",
       "      <th rowspan=\"8\" valign=\"top\">1000</th>\n",
       "      <th>5</th>\n",
       "      <td>159</td>\n",
       "    </tr>\n",
       "    <tr>\n",
       "      <th>6</th>\n",
       "      <td>172</td>\n",
       "    </tr>\n",
       "    <tr>\n",
       "      <th>7</th>\n",
       "      <td>340</td>\n",
       "    </tr>\n",
       "    <tr>\n",
       "      <th>8</th>\n",
       "      <td>408</td>\n",
       "    </tr>\n",
       "    <tr>\n",
       "      <th>9</th>\n",
       "      <td>466</td>\n",
       "    </tr>\n",
       "    <tr>\n",
       "      <th>10</th>\n",
       "      <td>350</td>\n",
       "    </tr>\n",
       "    <tr>\n",
       "      <th>11</th>\n",
       "      <td>338</td>\n",
       "    </tr>\n",
       "    <tr>\n",
       "      <th>12</th>\n",
       "      <td>333</td>\n",
       "    </tr>\n",
       "    <tr>\n",
       "      <th rowspan=\"2\" valign=\"top\">1001</th>\n",
       "      <th>11</th>\n",
       "      <td>430</td>\n",
       "    </tr>\n",
       "    <tr>\n",
       "      <th>12</th>\n",
       "      <td>414</td>\n",
       "    </tr>\n",
       "    <tr>\n",
       "      <th rowspan=\"7\" valign=\"top\">1002</th>\n",
       "      <th>6</th>\n",
       "      <td>117</td>\n",
       "    </tr>\n",
       "    <tr>\n",
       "      <th>7</th>\n",
       "      <td>214</td>\n",
       "    </tr>\n",
       "    <tr>\n",
       "      <th>8</th>\n",
       "      <td>289</td>\n",
       "    </tr>\n",
       "    <tr>\n",
       "      <th>9</th>\n",
       "      <td>206</td>\n",
       "    </tr>\n",
       "    <tr>\n",
       "      <th>10</th>\n",
       "      <td>212</td>\n",
       "    </tr>\n",
       "    <tr>\n",
       "      <th>11</th>\n",
       "      <td>243</td>\n",
       "    </tr>\n",
       "    <tr>\n",
       "      <th>12</th>\n",
       "      <td>236</td>\n",
       "    </tr>\n",
       "    <tr>\n",
       "      <th rowspan=\"5\" valign=\"top\">1003</th>\n",
       "      <th>8</th>\n",
       "      <td>380</td>\n",
       "    </tr>\n",
       "    <tr>\n",
       "      <th>9</th>\n",
       "      <td>961</td>\n",
       "    </tr>\n",
       "    <tr>\n",
       "      <th>10</th>\n",
       "      <td>855</td>\n",
       "    </tr>\n",
       "    <tr>\n",
       "      <th>11</th>\n",
       "      <td>824</td>\n",
       "    </tr>\n",
       "    <tr>\n",
       "      <th>12</th>\n",
       "      <td>802</td>\n",
       "    </tr>\n",
       "    <tr>\n",
       "      <th rowspan=\"8\" valign=\"top\">1004</th>\n",
       "      <th>5</th>\n",
       "      <td>35</td>\n",
       "    </tr>\n",
       "    <tr>\n",
       "      <th>6</th>\n",
       "      <td>171</td>\n",
       "    </tr>\n",
       "    <tr>\n",
       "      <th>7</th>\n",
       "      <td>135</td>\n",
       "    </tr>\n",
       "    <tr>\n",
       "      <th>8</th>\n",
       "      <td>137</td>\n",
       "    </tr>\n",
       "    <tr>\n",
       "      <th>9</th>\n",
       "      <td>117</td>\n",
       "    </tr>\n",
       "    <tr>\n",
       "      <th>10</th>\n",
       "      <td>145</td>\n",
       "    </tr>\n",
       "    <tr>\n",
       "      <th>11</th>\n",
       "      <td>117</td>\n",
       "    </tr>\n",
       "    <tr>\n",
       "      <th>12</th>\n",
       "      <td>130</td>\n",
       "    </tr>\n",
       "  </tbody>\n",
       "</table>\n",
       "</div>"
      ],
      "text/plain": [
       "               minutes\n",
       "user_id month         \n",
       "1000    5          159\n",
       "        6          172\n",
       "        7          340\n",
       "        8          408\n",
       "        9          466\n",
       "        10         350\n",
       "        11         338\n",
       "        12         333\n",
       "1001    11         430\n",
       "        12         414\n",
       "1002    6          117\n",
       "        7          214\n",
       "        8          289\n",
       "        9          206\n",
       "        10         212\n",
       "        11         243\n",
       "        12         236\n",
       "1003    8          380\n",
       "        9          961\n",
       "        10         855\n",
       "        11         824\n",
       "        12         802\n",
       "1004    5           35\n",
       "        6          171\n",
       "        7          135\n",
       "        8          137\n",
       "        9          117\n",
       "        10         145\n",
       "        11         117\n",
       "        12         130"
      ]
     },
     "metadata": {},
     "output_type": "display_data"
    }
   ],
   "source": [
    "minutes_per_month = calls.groupby(['user_id', 'month']).agg(minutes=('duration', 'sum')) \n",
    "\n",
    "display(minutes_per_month.head(30))"
   ]
  },
  {
   "cell_type": "markdown",
   "metadata": {
    "deletable": false,
    "editable": false,
    "id": "BuUZFzCUfgBL",
    "tags": [
     "start_task"
    ]
   },
   "source": [
    "Подсчёт количества отправленных сообщений по месяцам для каждого пользователя и сохранение в переменную `messages_per_month`. Понадобится:\n",
    "\n",
    "- сгруппировать датафрейм с информацией о сообщениях по двум столбцам — с идентификаторами пользователей и номерами месяцев;\n",
    "- после группировки выбрать столбец `message_date`;\n",
    "- затем применить метод для подсчёта количества.\n",
    "\n",
    "Выведите первые 30 строчек `messages_per_month`."
   ]
  },
  {
   "cell_type": "code",
   "execution_count": 27,
   "metadata": {
    "deletable": false,
    "id": "Q7Jh3732fgBM",
    "outputId": "bf0f2b6b-8c6e-41f9-f9fa-66359fdb9717",
    "scrolled": true
   },
   "outputs": [
    {
     "data": {
      "text/html": [
       "<div>\n",
       "<style scoped>\n",
       "    .dataframe tbody tr th:only-of-type {\n",
       "        vertical-align: middle;\n",
       "    }\n",
       "\n",
       "    .dataframe tbody tr th {\n",
       "        vertical-align: top;\n",
       "    }\n",
       "\n",
       "    .dataframe thead th {\n",
       "        text-align: right;\n",
       "    }\n",
       "</style>\n",
       "<table border=\"1\" class=\"dataframe\">\n",
       "  <thead>\n",
       "    <tr style=\"text-align: right;\">\n",
       "      <th></th>\n",
       "      <th></th>\n",
       "      <th>messages</th>\n",
       "    </tr>\n",
       "    <tr>\n",
       "      <th>user_id</th>\n",
       "      <th>month</th>\n",
       "      <th></th>\n",
       "    </tr>\n",
       "  </thead>\n",
       "  <tbody>\n",
       "    <tr>\n",
       "      <th rowspan=\"8\" valign=\"top\">1000</th>\n",
       "      <th>5</th>\n",
       "      <td>22</td>\n",
       "    </tr>\n",
       "    <tr>\n",
       "      <th>6</th>\n",
       "      <td>60</td>\n",
       "    </tr>\n",
       "    <tr>\n",
       "      <th>7</th>\n",
       "      <td>75</td>\n",
       "    </tr>\n",
       "    <tr>\n",
       "      <th>8</th>\n",
       "      <td>81</td>\n",
       "    </tr>\n",
       "    <tr>\n",
       "      <th>9</th>\n",
       "      <td>57</td>\n",
       "    </tr>\n",
       "    <tr>\n",
       "      <th>10</th>\n",
       "      <td>73</td>\n",
       "    </tr>\n",
       "    <tr>\n",
       "      <th>11</th>\n",
       "      <td>58</td>\n",
       "    </tr>\n",
       "    <tr>\n",
       "      <th>12</th>\n",
       "      <td>70</td>\n",
       "    </tr>\n",
       "    <tr>\n",
       "      <th rowspan=\"7\" valign=\"top\">1002</th>\n",
       "      <th>6</th>\n",
       "      <td>4</td>\n",
       "    </tr>\n",
       "    <tr>\n",
       "      <th>7</th>\n",
       "      <td>11</td>\n",
       "    </tr>\n",
       "    <tr>\n",
       "      <th>8</th>\n",
       "      <td>13</td>\n",
       "    </tr>\n",
       "    <tr>\n",
       "      <th>9</th>\n",
       "      <td>4</td>\n",
       "    </tr>\n",
       "    <tr>\n",
       "      <th>10</th>\n",
       "      <td>10</td>\n",
       "    </tr>\n",
       "    <tr>\n",
       "      <th>11</th>\n",
       "      <td>16</td>\n",
       "    </tr>\n",
       "    <tr>\n",
       "      <th>12</th>\n",
       "      <td>12</td>\n",
       "    </tr>\n",
       "    <tr>\n",
       "      <th rowspan=\"5\" valign=\"top\">1003</th>\n",
       "      <th>8</th>\n",
       "      <td>37</td>\n",
       "    </tr>\n",
       "    <tr>\n",
       "      <th>9</th>\n",
       "      <td>91</td>\n",
       "    </tr>\n",
       "    <tr>\n",
       "      <th>10</th>\n",
       "      <td>83</td>\n",
       "    </tr>\n",
       "    <tr>\n",
       "      <th>11</th>\n",
       "      <td>94</td>\n",
       "    </tr>\n",
       "    <tr>\n",
       "      <th>12</th>\n",
       "      <td>75</td>\n",
       "    </tr>\n",
       "    <tr>\n",
       "      <th rowspan=\"8\" valign=\"top\">1004</th>\n",
       "      <th>5</th>\n",
       "      <td>95</td>\n",
       "    </tr>\n",
       "    <tr>\n",
       "      <th>6</th>\n",
       "      <td>134</td>\n",
       "    </tr>\n",
       "    <tr>\n",
       "      <th>7</th>\n",
       "      <td>181</td>\n",
       "    </tr>\n",
       "    <tr>\n",
       "      <th>8</th>\n",
       "      <td>151</td>\n",
       "    </tr>\n",
       "    <tr>\n",
       "      <th>9</th>\n",
       "      <td>146</td>\n",
       "    </tr>\n",
       "    <tr>\n",
       "      <th>10</th>\n",
       "      <td>165</td>\n",
       "    </tr>\n",
       "    <tr>\n",
       "      <th>11</th>\n",
       "      <td>158</td>\n",
       "    </tr>\n",
       "    <tr>\n",
       "      <th>12</th>\n",
       "      <td>162</td>\n",
       "    </tr>\n",
       "    <tr>\n",
       "      <th rowspan=\"2\" valign=\"top\">1005</th>\n",
       "      <th>1</th>\n",
       "      <td>7</td>\n",
       "    </tr>\n",
       "    <tr>\n",
       "      <th>2</th>\n",
       "      <td>38</td>\n",
       "    </tr>\n",
       "  </tbody>\n",
       "</table>\n",
       "</div>"
      ],
      "text/plain": [
       "               messages\n",
       "user_id month          \n",
       "1000    5            22\n",
       "        6            60\n",
       "        7            75\n",
       "        8            81\n",
       "        9            57\n",
       "        10           73\n",
       "        11           58\n",
       "        12           70\n",
       "1002    6             4\n",
       "        7            11\n",
       "        8            13\n",
       "        9             4\n",
       "        10           10\n",
       "        11           16\n",
       "        12           12\n",
       "1003    8            37\n",
       "        9            91\n",
       "        10           83\n",
       "        11           94\n",
       "        12           75\n",
       "1004    5            95\n",
       "        6           134\n",
       "        7           181\n",
       "        8           151\n",
       "        9           146\n",
       "        10          165\n",
       "        11          158\n",
       "        12          162\n",
       "1005    1             7\n",
       "        2            38"
      ]
     },
     "metadata": {},
     "output_type": "display_data"
    }
   ],
   "source": [
    "messages_per_month = messages.groupby(['user_id', 'month']).agg(messages = ('message_date', 'count'))\n",
    "\n",
    "display(messages_per_month.head(30))"
   ]
  },
  {
   "cell_type": "markdown",
   "metadata": {
    "deletable": false,
    "editable": false,
    "id": "BToznRBmfgBM",
    "tags": [
     "start_task"
    ]
   },
   "source": [
    "Подсчёт количества потраченных мегабайт по месяцам для каждого пользователя и сохранение в переменную `sessions_per_month`. Понадобится:\n",
    "\n",
    "- сгруппировать датафрейм с информацией о сообщениях по двум столбцам — с идентификаторами пользователей и номерами месяцев;\n",
    "- затем применить метод для подсчёта суммы: `.agg({'mb_used': 'sum'})`"
   ]
  },
  {
   "cell_type": "code",
   "execution_count": 28,
   "metadata": {
    "deletable": false,
    "id": "hMqvWPYYfgBN",
    "outputId": "5df80844-b2f2-465e-f8af-f3e3805e6417",
    "scrolled": true
   },
   "outputs": [
    {
     "data": {
      "text/html": [
       "<div>\n",
       "<style scoped>\n",
       "    .dataframe tbody tr th:only-of-type {\n",
       "        vertical-align: middle;\n",
       "    }\n",
       "\n",
       "    .dataframe tbody tr th {\n",
       "        vertical-align: top;\n",
       "    }\n",
       "\n",
       "    .dataframe thead th {\n",
       "        text-align: right;\n",
       "    }\n",
       "</style>\n",
       "<table border=\"1\" class=\"dataframe\">\n",
       "  <thead>\n",
       "    <tr style=\"text-align: right;\">\n",
       "      <th></th>\n",
       "      <th></th>\n",
       "      <th>mb_used</th>\n",
       "    </tr>\n",
       "    <tr>\n",
       "      <th>user_id</th>\n",
       "      <th>month</th>\n",
       "      <th></th>\n",
       "    </tr>\n",
       "  </thead>\n",
       "  <tbody>\n",
       "    <tr>\n",
       "      <th rowspan=\"8\" valign=\"top\">1000</th>\n",
       "      <th>5</th>\n",
       "      <td>2253.49</td>\n",
       "    </tr>\n",
       "    <tr>\n",
       "      <th>6</th>\n",
       "      <td>23233.77</td>\n",
       "    </tr>\n",
       "    <tr>\n",
       "      <th>7</th>\n",
       "      <td>14003.64</td>\n",
       "    </tr>\n",
       "    <tr>\n",
       "      <th>8</th>\n",
       "      <td>14055.93</td>\n",
       "    </tr>\n",
       "    <tr>\n",
       "      <th>9</th>\n",
       "      <td>14568.91</td>\n",
       "    </tr>\n",
       "    <tr>\n",
       "      <th>10</th>\n",
       "      <td>14702.49</td>\n",
       "    </tr>\n",
       "    <tr>\n",
       "      <th>11</th>\n",
       "      <td>14756.47</td>\n",
       "    </tr>\n",
       "    <tr>\n",
       "      <th>12</th>\n",
       "      <td>9817.61</td>\n",
       "    </tr>\n",
       "    <tr>\n",
       "      <th rowspan=\"2\" valign=\"top\">1001</th>\n",
       "      <th>11</th>\n",
       "      <td>18429.34</td>\n",
       "    </tr>\n",
       "    <tr>\n",
       "      <th>12</th>\n",
       "      <td>14036.66</td>\n",
       "    </tr>\n",
       "    <tr>\n",
       "      <th rowspan=\"7\" valign=\"top\">1002</th>\n",
       "      <th>6</th>\n",
       "      <td>10856.82</td>\n",
       "    </tr>\n",
       "    <tr>\n",
       "      <th>7</th>\n",
       "      <td>17580.10</td>\n",
       "    </tr>\n",
       "    <tr>\n",
       "      <th>8</th>\n",
       "      <td>20319.26</td>\n",
       "    </tr>\n",
       "    <tr>\n",
       "      <th>9</th>\n",
       "      <td>16691.08</td>\n",
       "    </tr>\n",
       "    <tr>\n",
       "      <th>10</th>\n",
       "      <td>13888.25</td>\n",
       "    </tr>\n",
       "    <tr>\n",
       "      <th>11</th>\n",
       "      <td>18587.28</td>\n",
       "    </tr>\n",
       "    <tr>\n",
       "      <th>12</th>\n",
       "      <td>18113.73</td>\n",
       "    </tr>\n",
       "    <tr>\n",
       "      <th rowspan=\"5\" valign=\"top\">1003</th>\n",
       "      <th>8</th>\n",
       "      <td>8565.21</td>\n",
       "    </tr>\n",
       "    <tr>\n",
       "      <th>9</th>\n",
       "      <td>12468.87</td>\n",
       "    </tr>\n",
       "    <tr>\n",
       "      <th>10</th>\n",
       "      <td>14768.14</td>\n",
       "    </tr>\n",
       "    <tr>\n",
       "      <th>11</th>\n",
       "      <td>11356.89</td>\n",
       "    </tr>\n",
       "    <tr>\n",
       "      <th>12</th>\n",
       "      <td>10121.53</td>\n",
       "    </tr>\n",
       "    <tr>\n",
       "      <th rowspan=\"8\" valign=\"top\">1004</th>\n",
       "      <th>5</th>\n",
       "      <td>13403.98</td>\n",
       "    </tr>\n",
       "    <tr>\n",
       "      <th>6</th>\n",
       "      <td>17600.02</td>\n",
       "    </tr>\n",
       "    <tr>\n",
       "      <th>7</th>\n",
       "      <td>22229.58</td>\n",
       "    </tr>\n",
       "    <tr>\n",
       "      <th>8</th>\n",
       "      <td>28584.37</td>\n",
       "    </tr>\n",
       "    <tr>\n",
       "      <th>9</th>\n",
       "      <td>15109.03</td>\n",
       "    </tr>\n",
       "    <tr>\n",
       "      <th>10</th>\n",
       "      <td>18475.44</td>\n",
       "    </tr>\n",
       "    <tr>\n",
       "      <th>11</th>\n",
       "      <td>15616.02</td>\n",
       "    </tr>\n",
       "    <tr>\n",
       "      <th>12</th>\n",
       "      <td>18021.04</td>\n",
       "    </tr>\n",
       "  </tbody>\n",
       "</table>\n",
       "</div>"
      ],
      "text/plain": [
       "                mb_used\n",
       "user_id month          \n",
       "1000    5       2253.49\n",
       "        6      23233.77\n",
       "        7      14003.64\n",
       "        8      14055.93\n",
       "        9      14568.91\n",
       "        10     14702.49\n",
       "        11     14756.47\n",
       "        12      9817.61\n",
       "1001    11     18429.34\n",
       "        12     14036.66\n",
       "1002    6      10856.82\n",
       "        7      17580.10\n",
       "        8      20319.26\n",
       "        9      16691.08\n",
       "        10     13888.25\n",
       "        11     18587.28\n",
       "        12     18113.73\n",
       "1003    8       8565.21\n",
       "        9      12468.87\n",
       "        10     14768.14\n",
       "        11     11356.89\n",
       "        12     10121.53\n",
       "1004    5      13403.98\n",
       "        6      17600.02\n",
       "        7      22229.58\n",
       "        8      28584.37\n",
       "        9      15109.03\n",
       "        10     18475.44\n",
       "        11     15616.02\n",
       "        12     18021.04"
      ]
     },
     "metadata": {},
     "output_type": "display_data"
    }
   ],
   "source": [
    "sessions_per_month = sessions.groupby(['user_id', 'month']).agg({'mb_used' : 'sum'})\n",
    "\n",
    "display(sessions_per_month.head(30))"
   ]
  },
  {
   "cell_type": "markdown",
   "metadata": {
    "deletable": false,
    "editable": false,
    "id": "hKEdi7tPfgBN"
   },
   "source": [
    "<a id='section_3'></a>\n",
    "## Статистический анализ данных и подсчёт выручки"
   ]
  },
  {
   "cell_type": "markdown",
   "metadata": {
    "deletable": false,
    "editable": false,
    "id": "bqCqNFrxfgBO"
   },
   "source": [
    "Подсчёт доли (процентов) расторгнутых договоров."
   ]
  },
  {
   "cell_type": "code",
   "execution_count": 29,
   "metadata": {
    "deletable": false,
    "id": "POAaxwljfgBN",
    "outputId": "0e4ead63-def0-4c2a-c04b-1d3ffc6e4fe8"
   },
   "outputs": [
    {
     "data": {
      "text/plain": [
       "7.6"
      ]
     },
     "execution_count": 29,
     "metadata": {},
     "output_type": "execute_result"
    }
   ],
   "source": [
    "users['churn_date'].count() / users['churn_date'].shape[0] * 100"
   ]
  },
  {
   "cell_type": "markdown",
   "metadata": {
    "deletable": false,
    "editable": false,
    "id": "udxwc4iHfgBO"
   },
   "source": [
    "Объединение всех посчитанныех выше значений в один датафрейм `user_behavior`.\n",
    "Для каждой пары \"пользователь - месяц\" будут доступны информация о тарифе, количестве звонков, сообщений и потраченных мегабайтах."
   ]
  },
  {
   "cell_type": "code",
   "execution_count": 30,
   "metadata": {
    "deletable": false,
    "id": "kFT3QjRSfgBP",
    "outputId": "27fd8d7b-e016-49ce-ba8d-9a72b35159f5",
    "scrolled": true
   },
   "outputs": [
    {
     "data": {
      "text/html": [
       "<div>\n",
       "<style scoped>\n",
       "    .dataframe tbody tr th:only-of-type {\n",
       "        vertical-align: middle;\n",
       "    }\n",
       "\n",
       "    .dataframe tbody tr th {\n",
       "        vertical-align: top;\n",
       "    }\n",
       "\n",
       "    .dataframe thead th {\n",
       "        text-align: right;\n",
       "    }\n",
       "</style>\n",
       "<table border=\"1\" class=\"dataframe\">\n",
       "  <thead>\n",
       "    <tr style=\"text-align: right;\">\n",
       "      <th></th>\n",
       "      <th>user_id</th>\n",
       "      <th>month</th>\n",
       "      <th>calls</th>\n",
       "      <th>messages</th>\n",
       "      <th>mb_used</th>\n",
       "      <th>minutes</th>\n",
       "      <th>age</th>\n",
       "      <th>churn_date</th>\n",
       "      <th>city</th>\n",
       "      <th>first_name</th>\n",
       "      <th>last_name</th>\n",
       "      <th>reg_date</th>\n",
       "      <th>tariff</th>\n",
       "    </tr>\n",
       "  </thead>\n",
       "  <tbody>\n",
       "    <tr>\n",
       "      <th>0</th>\n",
       "      <td>1000</td>\n",
       "      <td>5</td>\n",
       "      <td>22.0</td>\n",
       "      <td>22.0</td>\n",
       "      <td>2253.49</td>\n",
       "      <td>159.0</td>\n",
       "      <td>52</td>\n",
       "      <td>NaT</td>\n",
       "      <td>Краснодар</td>\n",
       "      <td>Рафаил</td>\n",
       "      <td>Верещагин</td>\n",
       "      <td>2018-05-25</td>\n",
       "      <td>ultra</td>\n",
       "    </tr>\n",
       "    <tr>\n",
       "      <th>1</th>\n",
       "      <td>1000</td>\n",
       "      <td>6</td>\n",
       "      <td>43.0</td>\n",
       "      <td>60.0</td>\n",
       "      <td>23233.77</td>\n",
       "      <td>172.0</td>\n",
       "      <td>52</td>\n",
       "      <td>NaT</td>\n",
       "      <td>Краснодар</td>\n",
       "      <td>Рафаил</td>\n",
       "      <td>Верещагин</td>\n",
       "      <td>2018-05-25</td>\n",
       "      <td>ultra</td>\n",
       "    </tr>\n",
       "    <tr>\n",
       "      <th>2</th>\n",
       "      <td>1000</td>\n",
       "      <td>7</td>\n",
       "      <td>47.0</td>\n",
       "      <td>75.0</td>\n",
       "      <td>14003.64</td>\n",
       "      <td>340.0</td>\n",
       "      <td>52</td>\n",
       "      <td>NaT</td>\n",
       "      <td>Краснодар</td>\n",
       "      <td>Рафаил</td>\n",
       "      <td>Верещагин</td>\n",
       "      <td>2018-05-25</td>\n",
       "      <td>ultra</td>\n",
       "    </tr>\n",
       "    <tr>\n",
       "      <th>3</th>\n",
       "      <td>1000</td>\n",
       "      <td>8</td>\n",
       "      <td>52.0</td>\n",
       "      <td>81.0</td>\n",
       "      <td>14055.93</td>\n",
       "      <td>408.0</td>\n",
       "      <td>52</td>\n",
       "      <td>NaT</td>\n",
       "      <td>Краснодар</td>\n",
       "      <td>Рафаил</td>\n",
       "      <td>Верещагин</td>\n",
       "      <td>2018-05-25</td>\n",
       "      <td>ultra</td>\n",
       "    </tr>\n",
       "    <tr>\n",
       "      <th>4</th>\n",
       "      <td>1000</td>\n",
       "      <td>9</td>\n",
       "      <td>58.0</td>\n",
       "      <td>57.0</td>\n",
       "      <td>14568.91</td>\n",
       "      <td>466.0</td>\n",
       "      <td>52</td>\n",
       "      <td>NaT</td>\n",
       "      <td>Краснодар</td>\n",
       "      <td>Рафаил</td>\n",
       "      <td>Верещагин</td>\n",
       "      <td>2018-05-25</td>\n",
       "      <td>ultra</td>\n",
       "    </tr>\n",
       "  </tbody>\n",
       "</table>\n",
       "</div>"
      ],
      "text/plain": [
       "   user_id  month  calls  messages   mb_used  minutes  age churn_date  \\\n",
       "0     1000      5   22.0      22.0   2253.49    159.0   52        NaT   \n",
       "1     1000      6   43.0      60.0  23233.77    172.0   52        NaT   \n",
       "2     1000      7   47.0      75.0  14003.64    340.0   52        NaT   \n",
       "3     1000      8   52.0      81.0  14055.93    408.0   52        NaT   \n",
       "4     1000      9   58.0      57.0  14568.91    466.0   52        NaT   \n",
       "\n",
       "        city first_name  last_name   reg_date tariff  \n",
       "0  Краснодар     Рафаил  Верещагин 2018-05-25  ultra  \n",
       "1  Краснодар     Рафаил  Верещагин 2018-05-25  ultra  \n",
       "2  Краснодар     Рафаил  Верещагин 2018-05-25  ultra  \n",
       "3  Краснодар     Рафаил  Верещагин 2018-05-25  ultra  \n",
       "4  Краснодар     Рафаил  Верещагин 2018-05-25  ultra  "
      ]
     },
     "execution_count": 30,
     "metadata": {},
     "output_type": "execute_result"
    }
   ],
   "source": [
    "user_behavior = calls_per_month.merge(messages_per_month, left_index=True, right_index=True, how='outer')\\\n",
    "                               .merge(sessions_per_month, left_index=True, right_index=True, how='outer')\\\n",
    "                               .merge(minutes_per_month,  left_index=True, right_index=True, how='outer')\\\n",
    "                               .reset_index()\\\n",
    "                               .merge(users, how='left', left_on='user_id', right_on='user_id')\n",
    "\n",
    "user_behavior.head()"
   ]
  },
  {
   "cell_type": "markdown",
   "metadata": {
    "id": "mFY-PkHnfgBP"
   },
   "source": [
    "Таблица содержит ежемесячные записи для каждого пользователя о расходах мобильных ресурсов (кол-во звонков, минут, смс и интернет трафика), а так же личные данные пользователя: ФИО, город, дата подписания договора услуг и названия тарифа."
   ]
  },
  {
   "cell_type": "markdown",
   "metadata": {
    "deletable": false,
    "editable": false,
    "id": "ZTt3XdwufgBP"
   },
   "source": [
    "Проверка пропусков в таблице `user_behavior` после объединения:"
   ]
  },
  {
   "cell_type": "code",
   "execution_count": 31,
   "metadata": {
    "deletable": false,
    "id": "nFZPbbLLfgBQ",
    "outputId": "3dcbfe87-8966-48c8-cd5c-85b16afbbdd7"
   },
   "outputs": [
    {
     "data": {
      "text/plain": [
       "user_id          0\n",
       "month            0\n",
       "calls           40\n",
       "messages       497\n",
       "mb_used         11\n",
       "minutes         40\n",
       "age              0\n",
       "churn_date    3027\n",
       "city             0\n",
       "first_name       0\n",
       "last_name        0\n",
       "reg_date         0\n",
       "tariff           0\n",
       "dtype: int64"
      ]
     },
     "execution_count": 31,
     "metadata": {},
     "output_type": "execute_result"
    }
   ],
   "source": [
    "user_behavior.isna().sum()"
   ]
  },
  {
   "cell_type": "markdown",
   "metadata": {
    "deletable": false,
    "editable": false,
    "id": "RoDKn0cafgBQ"
   },
   "source": [
    "Заполнение образовавшихся пропусков в данных:"
   ]
  },
  {
   "cell_type": "code",
   "execution_count": 32,
   "metadata": {
    "deletable": false,
    "id": "URPDwfhbfgBQ"
   },
   "outputs": [],
   "source": [
    "user_behavior['calls']    = user_behavior['calls'].fillna(0)\n",
    "user_behavior['minutes']  = user_behavior['minutes'].fillna(0)\n",
    "user_behavior['messages'] = user_behavior['messages'].fillna(0)\n",
    "user_behavior['mb_used']  = user_behavior['mb_used'].fillna(0)"
   ]
  },
  {
   "cell_type": "markdown",
   "metadata": {
    "id": "d4C1MWomrFsm"
   },
   "source": [
    "Переименование столбца `tariff_name` на более простое `tariff`."
   ]
  },
  {
   "cell_type": "code",
   "execution_count": 33,
   "metadata": {
    "deletable": false,
    "id": "QycNC6VKfgBR"
   },
   "outputs": [],
   "source": [
    "tariffs = tariffs.rename(columns={'tariff_name': 'tariff'})"
   ]
  },
  {
   "cell_type": "markdown",
   "metadata": {
    "deletable": false,
    "editable": false,
    "id": "KrVRjC_afgBR"
   },
   "source": [
    "Присоединяем информацию о тарифах."
   ]
  },
  {
   "cell_type": "code",
   "execution_count": 34,
   "metadata": {
    "deletable": false,
    "id": "oJJKOosZfgBS"
   },
   "outputs": [],
   "source": [
    "user_behavior = user_behavior.merge(tariffs, on='tariff')"
   ]
  },
  {
   "cell_type": "markdown",
   "metadata": {
    "deletable": false,
    "editable": false,
    "id": "1v261oZifgBS"
   },
   "source": [
    "Подсчёт количества минут разговора, сообщений и мегабайт, превышающих включенные в тариф.\n"
   ]
  },
  {
   "cell_type": "code",
   "execution_count": 35,
   "metadata": {
    "deletable": false,
    "id": "wbG_uFhHfgBS"
   },
   "outputs": [],
   "source": [
    "user_behavior['paid_messages'] = user_behavior['messages'] - user_behavior['messages_included']\n",
    "user_behavior['paid_minutes'] = user_behavior['minutes'] - user_behavior['minutes_included']\n",
    "user_behavior['paid_mb'] = user_behavior['mb_used'] - user_behavior['mb_per_month_included']\n",
    "\n",
    "for col in ['paid_messages', 'paid_minutes', 'paid_mb']:\n",
    "    user_behavior.loc[user_behavior[col] < 0, col] = 0"
   ]
  },
  {
   "cell_type": "markdown",
   "metadata": {
    "deletable": false,
    "editable": false,
    "id": "k6sxTiA4fgBT"
   },
   "source": [
    "Перевод мегабайтов в гигабайты превышающих тариф и сохранение в столбец `paid_gb`."
   ]
  },
  {
   "cell_type": "code",
   "execution_count": 36,
   "metadata": {
    "deletable": false,
    "id": "I3QAusjjfgBT"
   },
   "outputs": [],
   "source": [
    "user_behavior['paid_gb'] = np.ceil(user_behavior['paid_mb'] / 1024).astype(int)"
   ]
  },
  {
   "cell_type": "markdown",
   "metadata": {
    "deletable": false,
    "editable": false,
    "id": "wSToxz4YfgBT"
   },
   "source": [
    "Подсчёт выручки за минуты разговора, сообщения и интернет."
   ]
  },
  {
   "cell_type": "code",
   "execution_count": 37,
   "metadata": {
    "deletable": false,
    "id": "w7RjIEPofgBU"
   },
   "outputs": [],
   "source": [
    "user_behavior['cost_messages'] = user_behavior['paid_messages'] * user_behavior['rub_per_message']\n",
    "user_behavior['cost_minutes'] = user_behavior['paid_minutes'] * user_behavior['rub_per_minute']\n",
    "user_behavior['cost_gb'] = user_behavior['paid_gb'] * user_behavior['rub_per_gb']"
   ]
  },
  {
   "cell_type": "markdown",
   "metadata": {
    "deletable": false,
    "editable": false,
    "id": "AiVJePUJfgBU"
   },
   "source": [
    "Подсчёт помесячной выручку с каждого пользователя. Она будет храниться в столбец `total_cost`"
   ]
  },
  {
   "cell_type": "code",
   "execution_count": 38,
   "metadata": {
    "deletable": false,
    "id": "YWhjkkFTfgBV"
   },
   "outputs": [],
   "source": [
    "user_behavior['total_cost'] = user_behavior['rub_monthly_fee']\\\n",
    "                            + user_behavior['cost_minutes']\\\n",
    "                            + user_behavior['cost_messages']\\\n",
    "                            + user_behavior['cost_gb']"
   ]
  },
  {
   "cell_type": "markdown",
   "metadata": {
    "deletable": false,
    "editable": false,
    "id": "kb-YVd7gfgBW"
   },
   "source": [
    "Сохранение статистических метрик для каждой пары месяц-тариф в одной таблице stats_df (среднее значение, стандартное отклонение, медиана).\n",
    "Датафрейм `stats_df` для каждой пары \"месяц-тариф\" будет хранить основные характеристики"
   ]
  },
  {
   "cell_type": "code",
   "execution_count": 39,
   "metadata": {
    "deletable": false,
    "id": "FXBIF0TBfgBW",
    "outputId": "201d8f65-31cc-4472-e643-71975c5b6437",
    "scrolled": false
   },
   "outputs": [
    {
     "data": {
      "text/html": [
       "<div>\n",
       "<style scoped>\n",
       "    .dataframe tbody tr th:only-of-type {\n",
       "        vertical-align: middle;\n",
       "    }\n",
       "\n",
       "    .dataframe tbody tr th {\n",
       "        vertical-align: top;\n",
       "    }\n",
       "\n",
       "    .dataframe thead th {\n",
       "        text-align: right;\n",
       "    }\n",
       "</style>\n",
       "<table border=\"1\" class=\"dataframe\">\n",
       "  <thead>\n",
       "    <tr style=\"text-align: right;\">\n",
       "      <th></th>\n",
       "      <th>month</th>\n",
       "      <th>tariff</th>\n",
       "      <th>calls_mean</th>\n",
       "      <th>sessions_mean</th>\n",
       "      <th>messages_mean</th>\n",
       "      <th>minutes_mean</th>\n",
       "      <th>calls_std</th>\n",
       "      <th>sessions_std</th>\n",
       "      <th>messages_std</th>\n",
       "      <th>minutes_std</th>\n",
       "      <th>calls_median</th>\n",
       "      <th>sessions_median</th>\n",
       "      <th>messages_median</th>\n",
       "      <th>minutes_median</th>\n",
       "    </tr>\n",
       "  </thead>\n",
       "  <tbody>\n",
       "    <tr>\n",
       "      <th>0</th>\n",
       "      <td>1</td>\n",
       "      <td>smart</td>\n",
       "      <td>27.68</td>\n",
       "      <td>8513.72</td>\n",
       "      <td>18.24</td>\n",
       "      <td>203.85</td>\n",
       "      <td>20.81</td>\n",
       "      <td>6444.68</td>\n",
       "      <td>16.20</td>\n",
       "      <td>154.23</td>\n",
       "      <td>20.5</td>\n",
       "      <td>7096.18</td>\n",
       "      <td>15.0</td>\n",
       "      <td>162.5</td>\n",
       "    </tr>\n",
       "    <tr>\n",
       "      <th>1</th>\n",
       "      <td>1</td>\n",
       "      <td>ultra</td>\n",
       "      <td>59.44</td>\n",
       "      <td>13140.68</td>\n",
       "      <td>33.78</td>\n",
       "      <td>428.11</td>\n",
       "      <td>41.64</td>\n",
       "      <td>6865.35</td>\n",
       "      <td>30.67</td>\n",
       "      <td>269.76</td>\n",
       "      <td>51.0</td>\n",
       "      <td>14791.37</td>\n",
       "      <td>32.0</td>\n",
       "      <td>382.0</td>\n",
       "    </tr>\n",
       "    <tr>\n",
       "      <th>2</th>\n",
       "      <td>2</td>\n",
       "      <td>smart</td>\n",
       "      <td>40.19</td>\n",
       "      <td>11597.05</td>\n",
       "      <td>24.09</td>\n",
       "      <td>298.69</td>\n",
       "      <td>25.39</td>\n",
       "      <td>6247.35</td>\n",
       "      <td>21.75</td>\n",
       "      <td>190.82</td>\n",
       "      <td>38.5</td>\n",
       "      <td>12553.71</td>\n",
       "      <td>20.0</td>\n",
       "      <td>258.0</td>\n",
       "    </tr>\n",
       "    <tr>\n",
       "      <th>3</th>\n",
       "      <td>2</td>\n",
       "      <td>ultra</td>\n",
       "      <td>41.54</td>\n",
       "      <td>11775.94</td>\n",
       "      <td>21.96</td>\n",
       "      <td>297.12</td>\n",
       "      <td>40.97</td>\n",
       "      <td>10644.64</td>\n",
       "      <td>26.77</td>\n",
       "      <td>296.51</td>\n",
       "      <td>25.0</td>\n",
       "      <td>7327.12</td>\n",
       "      <td>5.5</td>\n",
       "      <td>168.0</td>\n",
       "    </tr>\n",
       "    <tr>\n",
       "      <th>4</th>\n",
       "      <td>3</td>\n",
       "      <td>smart</td>\n",
       "      <td>54.32</td>\n",
       "      <td>15104.16</td>\n",
       "      <td>31.86</td>\n",
       "      <td>390.05</td>\n",
       "      <td>25.54</td>\n",
       "      <td>5828.24</td>\n",
       "      <td>26.80</td>\n",
       "      <td>191.89</td>\n",
       "      <td>59.0</td>\n",
       "      <td>15670.25</td>\n",
       "      <td>23.0</td>\n",
       "      <td>409.0</td>\n",
       "    </tr>\n",
       "    <tr>\n",
       "      <th>5</th>\n",
       "      <td>3</td>\n",
       "      <td>ultra</td>\n",
       "      <td>67.68</td>\n",
       "      <td>17535.55</td>\n",
       "      <td>32.30</td>\n",
       "      <td>489.65</td>\n",
       "      <td>44.84</td>\n",
       "      <td>10951.79</td>\n",
       "      <td>41.62</td>\n",
       "      <td>333.74</td>\n",
       "      <td>57.0</td>\n",
       "      <td>17495.18</td>\n",
       "      <td>20.0</td>\n",
       "      <td>403.0</td>\n",
       "    </tr>\n",
       "    <tr>\n",
       "      <th>6</th>\n",
       "      <td>4</td>\n",
       "      <td>smart</td>\n",
       "      <td>51.31</td>\n",
       "      <td>13462.18</td>\n",
       "      <td>30.74</td>\n",
       "      <td>367.13</td>\n",
       "      <td>25.70</td>\n",
       "      <td>5698.25</td>\n",
       "      <td>24.54</td>\n",
       "      <td>186.49</td>\n",
       "      <td>52.0</td>\n",
       "      <td>14087.65</td>\n",
       "      <td>28.0</td>\n",
       "      <td>368.5</td>\n",
       "    </tr>\n",
       "    <tr>\n",
       "      <th>7</th>\n",
       "      <td>4</td>\n",
       "      <td>ultra</td>\n",
       "      <td>64.09</td>\n",
       "      <td>16828.13</td>\n",
       "      <td>31.56</td>\n",
       "      <td>458.02</td>\n",
       "      <td>36.27</td>\n",
       "      <td>9718.65</td>\n",
       "      <td>37.51</td>\n",
       "      <td>267.68</td>\n",
       "      <td>61.0</td>\n",
       "      <td>16645.78</td>\n",
       "      <td>17.0</td>\n",
       "      <td>453.0</td>\n",
       "    </tr>\n",
       "    <tr>\n",
       "      <th>8</th>\n",
       "      <td>5</td>\n",
       "      <td>smart</td>\n",
       "      <td>55.24</td>\n",
       "      <td>15805.18</td>\n",
       "      <td>33.77</td>\n",
       "      <td>387.36</td>\n",
       "      <td>25.38</td>\n",
       "      <td>5978.23</td>\n",
       "      <td>27.04</td>\n",
       "      <td>186.60</td>\n",
       "      <td>59.0</td>\n",
       "      <td>16323.94</td>\n",
       "      <td>30.0</td>\n",
       "      <td>433.0</td>\n",
       "    </tr>\n",
       "    <tr>\n",
       "      <th>9</th>\n",
       "      <td>5</td>\n",
       "      <td>ultra</td>\n",
       "      <td>72.51</td>\n",
       "      <td>19363.15</td>\n",
       "      <td>37.85</td>\n",
       "      <td>510.33</td>\n",
       "      <td>41.08</td>\n",
       "      <td>10046.11</td>\n",
       "      <td>40.31</td>\n",
       "      <td>289.60</td>\n",
       "      <td>75.0</td>\n",
       "      <td>18696.43</td>\n",
       "      <td>25.0</td>\n",
       "      <td>519.0</td>\n",
       "    </tr>\n",
       "  </tbody>\n",
       "</table>\n",
       "</div>"
      ],
      "text/plain": [
       "   month tariff  calls_mean  sessions_mean  messages_mean  minutes_mean  \\\n",
       "0      1  smart       27.68        8513.72          18.24        203.85   \n",
       "1      1  ultra       59.44       13140.68          33.78        428.11   \n",
       "2      2  smart       40.19       11597.05          24.09        298.69   \n",
       "3      2  ultra       41.54       11775.94          21.96        297.12   \n",
       "4      3  smart       54.32       15104.16          31.86        390.05   \n",
       "5      3  ultra       67.68       17535.55          32.30        489.65   \n",
       "6      4  smart       51.31       13462.18          30.74        367.13   \n",
       "7      4  ultra       64.09       16828.13          31.56        458.02   \n",
       "8      5  smart       55.24       15805.18          33.77        387.36   \n",
       "9      5  ultra       72.51       19363.15          37.85        510.33   \n",
       "\n",
       "   calls_std  sessions_std  messages_std  minutes_std  calls_median  \\\n",
       "0      20.81       6444.68         16.20       154.23          20.5   \n",
       "1      41.64       6865.35         30.67       269.76          51.0   \n",
       "2      25.39       6247.35         21.75       190.82          38.5   \n",
       "3      40.97      10644.64         26.77       296.51          25.0   \n",
       "4      25.54       5828.24         26.80       191.89          59.0   \n",
       "5      44.84      10951.79         41.62       333.74          57.0   \n",
       "6      25.70       5698.25         24.54       186.49          52.0   \n",
       "7      36.27       9718.65         37.51       267.68          61.0   \n",
       "8      25.38       5978.23         27.04       186.60          59.0   \n",
       "9      41.08      10046.11         40.31       289.60          75.0   \n",
       "\n",
       "   sessions_median  messages_median  minutes_median  \n",
       "0          7096.18             15.0           162.5  \n",
       "1         14791.37             32.0           382.0  \n",
       "2         12553.71             20.0           258.0  \n",
       "3          7327.12              5.5           168.0  \n",
       "4         15670.25             23.0           409.0  \n",
       "5         17495.18             20.0           403.0  \n",
       "6         14087.65             28.0           368.5  \n",
       "7         16645.78             17.0           453.0  \n",
       "8         16323.94             30.0           433.0  \n",
       "9         18696.43             25.0           519.0  "
      ]
     },
     "execution_count": 39,
     "metadata": {},
     "output_type": "execute_result"
    }
   ],
   "source": [
    "stats_df = user_behavior.pivot_table(index=['month', 'tariff'],\n",
    "                                     values=['calls', 'minutes', 'messages', 'mb_used'],\n",
    "                                     aggfunc=['mean', 'std', 'median']\n",
    "                                    ).round(2).reset_index()\n",
    "\n",
    "stats_df.columns=['month', 'tariff', 'calls_mean',   'sessions_mean',   'messages_mean',   'minutes_mean',\n",
    "                                     'calls_std',    'sessions_std',    'messages_std',    'minutes_std', \n",
    "                                     'calls_median', 'sessions_median', 'messages_median', 'minutes_median']\n",
    "\n",
    "stats_df.head(10)"
   ]
  },
  {
   "cell_type": "markdown",
   "metadata": {
    "id": "DwoDmoQxfgBX"
   },
   "source": [
    "**Сводная таблица**: содержит статистическую оценку тарифов по месяцам. Каждая строчка - это тариф, месяц и их показатели по кол-ву звонков, минут, смс и интернет-трафика (среднее, медиана, стандартное отклонение). Период: 12 месяцев."
   ]
  },
  {
   "cell_type": "markdown",
   "metadata": {
    "deletable": false,
    "editable": false,
    "id": "Kc6Le_J9fgBX"
   },
   "source": [
    "Распределение среднего количества звонков по видам тарифов и месяцам."
   ]
  },
  {
   "cell_type": "code",
   "execution_count": 40,
   "metadata": {
    "deletable": false,
    "id": "j18dyjvjfgBY",
    "outputId": "0bec01d9-1e5a-4b06-d7c4-72ebf9369456"
   },
   "outputs": [
    {
     "data": {
      "image/png": "[encoded data removed]",
      "text/plain": [
       "<Figure size 1300x500 with 1 Axes>"
      ]
     },
     "metadata": {},
     "output_type": "display_data"
    }
   ],
   "source": [
    "fig, ax = plt.subplots(figsize=FIG_SIZE)\n",
    "sns.barplot(x='month', y='calls_mean', data=stats_df, hue=\"tariff\", palette=['lightblue', 'blue'], ax=ax)\n",
    "plt.title('Распределение количества звонков по видам тарифов и месяцам')\n",
    "plt.xlabel('Номер месяца')\n",
    "plt.ylabel('Среднее количество звонков')\n",
    "plt.show()"
   ]
  },
  {
   "cell_type": "code",
   "execution_count": 41,
   "metadata": {
    "deletable": false,
    "id": "ss4jPrwifgBY",
    "outputId": "e535a685-4e41-4ed9-c836-35dfcb824fb6"
   },
   "outputs": [
    {
     "data": {
      "image/png": "[encoded data removed]",
      "text/plain": [
       "<Figure size 1300x500 with 1 Axes>"
      ]
     },
     "metadata": {},
     "output_type": "display_data"
    }
   ],
   "source": [
    "user_behavior.groupby('tariff')['calls'].plot(kind='hist', bins=35, alpha=0.5, figsize=FIG_SIZE)\n",
    "plt.legend(['Smart', 'Ultra'])\n",
    "plt.title('Распределение количества клиентов по среднему количеству звонков в год')\n",
    "plt.xlabel('Количество звонков')\n",
    "plt.ylabel('Количество клиентов')\n",
    "plt.grid(True)\n",
    "plt.show()"
   ]
  },
  {
   "cell_type": "markdown",
   "metadata": {
    "deletable": false,
    "editable": false,
    "id": "HPg4TGoTfgBZ"
   },
   "source": [
    "Распределение средней продолжительности звонков по видам тарифов и месяцам."
   ]
  },
  {
   "cell_type": "code",
   "execution_count": 42,
   "metadata": {
    "deletable": false,
    "id": "UPk1irBEfgBa",
    "outputId": "ec8730d5-f899-46cb-fac2-68f8de7ddb0e"
   },
   "outputs": [
    {
     "data": {
      "image/png": "[encoded data removed]",
      "text/plain": [
       "<Figure size 1300x500 with 1 Axes>"
      ]
     },
     "metadata": {},
     "output_type": "display_data"
    }
   ],
   "source": [
    "fig, ax = plt.subplots(figsize=FIG_SIZE)\n",
    "sns.barplot(x='month', y='minutes_mean', data=stats_df, hue=\"tariff\", palette=['lightblue', 'blue'], ax=ax)\n",
    "plt.title('Распределение продолжительности звонков по видам тарифов и месяцам')\n",
    "plt.xlabel('Номер месяца')\n",
    "plt.ylabel('Средняя продолжительность звонков')\n",
    "plt.show()"
   ]
  },
  {
   "cell_type": "markdown",
   "metadata": {
    "id": "U_I0cCopfgBa"
   },
   "source": [
    "Распределение кол-ва пользователей по длительности разговора."
   ]
  },
  {
   "cell_type": "code",
   "execution_count": 43,
   "metadata": {
    "deletable": false,
    "id": "AjB4wutzfgBb",
    "outputId": "b0e03693-4755-41a5-c775-8336b50b5e5d"
   },
   "outputs": [
    {
     "data": {
      "image/png": "[encoded data removed]",
      "text/plain": [
       "<Figure size 1300x500 with 1 Axes>"
      ]
     },
     "metadata": {},
     "output_type": "display_data"
    }
   ],
   "source": [
    "user_behavior[user_behavior['tariff'] =='smart']['minutes'].hist(bins=30, alpha=0.5, figsize=FIG_SIZE, color='green')\n",
    "user_behavior[user_behavior['tariff'] =='ultra']['minutes'].hist(bins=35, alpha=0.5, figsize=FIG_SIZE, color='blue')\n",
    "plt.legend(['Smart', 'Ultra'])\n",
    "plt.title('Распределение количества клиентов по длительности разговора')\n",
    "plt.xlabel('Продолжительность разговора, мин.')\n",
    "plt.ylabel('Количество клиентов')\n",
    "plt.grid(True)\n",
    "plt.show()"
   ]
  },
  {
   "cell_type": "markdown",
   "metadata": {
    "deletable": false,
    "editable": false,
    "id": "OSyLT9_AfgBc"
   },
   "source": [
    "Средняя длительность разговоров у абонентов тарифа _Ultra_ больше, чем у абонентов тарифа _Smart_. В течение года пользователи обоих тарифов увеличивают среднюю продолжительность своих разговоров. Рост средней длительности разговоров у абонентов тарифа _Smart_ равномерный в течение года. Пользователи тарифа _Ultra_ не проявляют подобной линейной стабильности. Стоит отметить, что феврале у абонентов обоих тарифных планов наблюдались самые низкие показатели."
   ]
  },
  {
   "cell_type": "markdown",
   "metadata": {
    "deletable": false,
    "editable": false,
    "id": "RcAze4qvfgBc"
   },
   "source": [
    "Распределение среднего количества сообщений по видам тарифов и месяцам"
   ]
  },
  {
   "cell_type": "code",
   "execution_count": 44,
   "metadata": {
    "deletable": false,
    "id": "OeL5gJbPfgBc",
    "outputId": "45d3bf97-c4ab-4596-bb73-0579e5728bb6"
   },
   "outputs": [
    {
     "data": {
      "image/png": "[encoded data removed]",
      "text/plain": [
       "<Figure size 1300x500 with 1 Axes>"
      ]
     },
     "metadata": {},
     "output_type": "display_data"
    }
   ],
   "source": [
    "fig, ax = plt.subplots(figsize=FIG_SIZE)\n",
    "sns.barplot(x='month', y='messages_mean', data=stats_df, hue=\"tariff\", palette=['lightblue', 'blue'], ax=ax)\n",
    "plt.title('Распределение количества сообщений по видам тарифов и месяцам')\n",
    "plt.xlabel('Номер месяца')\n",
    "plt.ylabel('Средняя продолжительность сообщений')\n",
    "plt.show()"
   ]
  },
  {
   "cell_type": "markdown",
   "metadata": {
    "id": "baGkKbSjfgBd"
   },
   "source": [
    "Распределение кол-ва пользователей от кол-ва СМС, с учётом разных тарифов."
   ]
  },
  {
   "cell_type": "code",
   "execution_count": 45,
   "metadata": {
    "deletable": false,
    "id": "CUuwQDFafgBe",
    "outputId": "c7418faf-fb11-45d2-8e59-af2df02fb09c"
   },
   "outputs": [
    {
     "data": {
      "image/png": "[encoded data removed]",
      "text/plain": [
       "<Figure size 1300x500 with 1 Axes>"
      ]
     },
     "metadata": {},
     "output_type": "display_data"
    }
   ],
   "source": [
    "user_behavior[user_behavior['tariff'] =='smart']['messages'].hist(bins=23, alpha=0.5, figsize=FIG_SIZE, color='green')\n",
    "user_behavior[user_behavior['tariff'] =='ultra']['messages'].hist(bins=35, alpha=0.5, figsize=FIG_SIZE, color='blue')\n",
    "plt.legend(['Smart', 'Ultra'])\n",
    "plt.title('Распределение количества клиентов по кол-во СМС')\n",
    "plt.xlabel('Количество смс')\n",
    "plt.ylabel('Количество клиентов')\n",
    "plt.grid(True)\n",
    "plt.show()"
   ]
  },
  {
   "cell_type": "markdown",
   "metadata": {
    "id": "dFYzRki7fgBe"
   },
   "source": [
    "В среднем количество сообщений пользователи тарифа _Ultra_ отправляют больше - почти на 20 сообщений больше, чем пользователи тарифа _Smart_. Количество сообщений в течение года на обоих тарифах растет. Динамика по отправке сообщений схожа с тенденциями по длительности разговоров: в феврале отмечено наименьшее количество сообщений за год и пользователи тарифа _Ultra_ также проявляют нелинейную положительную динамику."
   ]
  },
  {
   "cell_type": "markdown",
   "metadata": {
    "deletable": false,
    "editable": false,
    "id": "PbwewwHJfgBf"
   },
   "source": [
    "Сравнение потраченных мегабайт среди пользователей тарифов _Smart_ и _Ultra_."
   ]
  },
  {
   "cell_type": "code",
   "execution_count": 46,
   "metadata": {
    "deletable": false,
    "id": "01dUwAxhfgBf",
    "outputId": "f5c76a6d-2367-4265-af68-5acc860c2d58"
   },
   "outputs": [
    {
     "data": {
      "image/png": "[encoded data removed]",
      "text/plain": [
       "<Figure size 1300x500 with 1 Axes>"
      ]
     },
     "metadata": {},
     "output_type": "display_data"
    }
   ],
   "source": [
    "fig, ax = plt.subplots(figsize=FIG_SIZE)\n",
    "sns.barplot(x='month', y='sessions_mean', data=stats_df, hue=\"tariff\", palette=['lightblue', 'blue'], ax=ax)\n",
    "plt.title('Распределение количества потраченного трафика (Мб) по видам тарифов и месяцам')\n",
    "plt.xlabel('Номер месяца')\n",
    "plt.ylabel('Среднее трафика, Mb')\n",
    "plt.show()"
   ]
  },
  {
   "cell_type": "code",
   "execution_count": 47,
   "metadata": {
    "deletable": false,
    "id": "VItd871PfgBg",
    "outputId": "1f3977f1-5c47-46fe-ec7b-6f952e8b2eb2"
   },
   "outputs": [
    {
     "data": {
      "image/png": "[encoded data removed]",
      "text/plain": [
       "<Figure size 1300x500 with 1 Axes>"
      ]
     },
     "metadata": {},
     "output_type": "display_data"
    }
   ],
   "source": [
    "user_behavior[user_behavior['tariff'] =='smart']['mb_used'].hist(bins=35, alpha=0.5, figsize=FIG_SIZE, color='green')\n",
    "user_behavior[user_behavior['tariff'] =='ultra']['mb_used'].hist(bins=45, alpha=0.5, figsize=FIG_SIZE, color='blue')\n",
    "plt.legend(['Smart', 'Ultra'])\n",
    "plt.title('Распределение клиентов от потраченного трафика (Мб) для разных тарифов')\n",
    "plt.xlabel('Количество потраченного интернет трафика, Mb')\n",
    "plt.ylabel('Количество клиентов')\n",
    "plt.grid(True)\n",
    "plt.show()"
   ]
  },
  {
   "cell_type": "markdown",
   "metadata": {
    "deletable": false,
    "editable": false,
    "id": "Dv2odLNVfgBg"
   },
   "source": [
    "Меньше всего пользователи использовали интернет в январе, феврале и апреле. Чаще всего абоненты тарифа Smart тратят 15-17 Гб, а абоненты тарифного плана _Ultra_ - 19-21 ГБ."
   ]
  },
  {
   "cell_type": "markdown",
   "metadata": {
    "deletable": false,
    "editable": false,
    "id": "hcMSufoufgBh"
   },
   "source": [
    "<a id='section_4'></a>\n",
    "## Проверка гипотез"
   ]
  },
  {
   "cell_type": "markdown",
   "metadata": {
    "deletable": false,
    "editable": false,
    "id": "bTBD_HLFfgBh",
    "tags": [
     "start_task"
    ]
   },
   "source": [
    "Проверка гипотезы: средняя выручка от пользователей тарифов _«Ультра»_ и _«Смарт»_ различаются;\n",
    "\n",
    "```\n",
    "H_0: Выручка (total_cost) пользователей \"Ультра\" = выручка (total_cost) пользователей \"Смарт\"`\n",
    "H_a: Выручка (total_cost) пользователей \"Ультра\" ≠ выручка (total_cost) пользователей \"Смарт\"`\n",
    "alpha = 0.05\n",
    "```"
   ]
  },
  {
   "cell_type": "code",
   "execution_count": 48,
   "metadata": {
    "id": "5UdsfrNAfgBi",
    "outputId": "c44a1b30-3e02-4bb9-e717-e606942c65fe"
   },
   "outputs": [
    {
     "data": {
      "image/png": "[encoded data removed]",
      "text/plain": [
       "<Figure size 1300x500 with 1 Axes>"
      ]
     },
     "metadata": {},
     "output_type": "display_data"
    }
   ],
   "source": [
    "user_behavior[user_behavior['tariff']=='smart']['total_cost'].hist(bins=35, alpha=0.5, figsize=FIG_SIZE, color='green')\n",
    "user_behavior[user_behavior['tariff']=='ultra']['total_cost'].hist(bins=20, alpha=0.5, figsize=FIG_SIZE, color='blue')\n",
    "plt.legend(['Smart', 'Ultra'])\n",
    "plt.title('Распределение клиентов от выручки для разных тарифов')\n",
    "plt.xlabel('Объём выручки, руб.')\n",
    "plt.ylabel('Количество клиентов')\n",
    "plt.grid(True)\n",
    "plt.show()"
   ]
  },
  {
   "cell_type": "code",
   "execution_count": 49,
   "metadata": {
    "deletable": false,
    "id": "PqIWMCL7fgBi",
    "outputId": "811d43ba-f5b1-4f43-a1ad-22520a645a10"
   },
   "outputs": [
    {
     "name": "stdout",
     "output_type": "stream",
     "text": [
      "4.2606313931076085e-250\n",
      "Отвергаем нулевую гипотезу\n"
     ]
    }
   ],
   "source": [
    "#вызов метода для проверки гипотезы\n",
    "results = st.ttest_ind(user_behavior[user_behavior['tariff']=='smart']['total_cost'],\n",
    "                       user_behavior[user_behavior['tariff']=='ultra']['total_cost'],\n",
    "                       equal_var=False) \n",
    "\n",
    "alpha = 0.05 # значение уровня значимости\n",
    "\n",
    "print(results.pvalue) # вывод значения p-value на экран \n",
    "if results.pvalue < alpha: # условный оператор с выводом строки с ответом\n",
    "    print('Отвергаем нулевую гипотезу')\n",
    "else:\n",
    "    print('Не получилось отвергнуть нулевую гипотезу')"
   ]
  },
  {
   "cell_type": "markdown",
   "metadata": {
    "deletable": false,
    "editable": false,
    "id": "rc1H_o3gfgBj",
    "tags": [
     "start_task"
    ]
   },
   "source": [
    "Проверка гипотезы: пользователи из Москвы приносят больше выручки, чем пользователи из других городов;\n",
    "\n",
    "```\n",
    "H_0: Выручка (total_cost) пользователей из Москвы = выручка (total_cost) пользователей не из Москвы`\n",
    "H_1: Выручка (total_cost) пользователей из Москвы ≠ выручка (total_cost) пользователей не из Москвы`\n",
    "alpha = 0.05\n",
    "```"
   ]
  },
  {
   "cell_type": "code",
   "execution_count": 50,
   "metadata": {
    "id": "whIEkZy8fgBk",
    "outputId": "335cc198-e91d-4ee0-85c9-0bd730536c8a"
   },
   "outputs": [
    {
     "data": {
      "image/png": "[encoded data removed]",
      "text/plain": [
       "<Figure size 1300x500 with 1 Axes>"
      ]
     },
     "metadata": {},
     "output_type": "display_data"
    }
   ],
   "source": [
    "user_behavior[user_behavior['city']!='Москва']['total_cost'].hist(bins=46, alpha=0.5, figsize=FIG_SIZE, color='green')\n",
    "user_behavior[user_behavior['city']=='Москва']['total_cost'].hist(bins=35, alpha=0.5, figsize=FIG_SIZE, color='blue')\n",
    "plt.legend(['другие города', 'Москва'])\n",
    "plt.title('Распределение клиентов от выручки из разных городов')\n",
    "plt.xlabel('Объём выручки, руб.')\n",
    "plt.ylabel('Количество клиентов')\n",
    "plt.grid(True)\n",
    "plt.show()"
   ]
  },
  {
   "cell_type": "code",
   "execution_count": 51,
   "metadata": {
    "deletable": false,
    "id": "mdwEragsfgBk",
    "outputId": "7121f938-5676-4120-fff9-c976a4acaf73"
   },
   "outputs": [
    {
     "name": "stdout",
     "output_type": "stream",
     "text": [
      "0.5440152911670223\n",
      "Не получилось отвергнуть нулевую гипотезу\n"
     ]
    }
   ],
   "source": [
    "# вызов метода для проверки гипотезы\n",
    "results = st.ttest_ind(user_behavior[user_behavior['city']=='Москва']['total_cost'],\n",
    "                       user_behavior[user_behavior['city']!='Москва']['total_cost'])\n",
    "\n",
    "alpha = 0.05 #задайте значение уровня значимости\n",
    "\n",
    "print(results.pvalue) # вывод значения p-value на экран \n",
    "\n",
    "if results.pvalue < alpha: # условный оператор с выводом строки с ответом\n",
    "    print('Отвергаем нулевую гипотезу')\n",
    "else:\n",
    "    print('Не получилось отвергнуть нулевую гипотезу')"
   ]
  },
  {
   "cell_type": "markdown",
   "metadata": {
    "id": "r0ALi0DqxS0_"
   },
   "source": [
    "<a id='section_5'></a>\n",
    "## Итоговый вывод"
   ]
  },
  {
   "cell_type": "markdown",
   "metadata": {
    "id": "i0i9LMYC0WSR"
   },
   "source": [
    "Средняя **длительность разговоров** у абонентов тарифа _Ultra_ больше, чем у абонентов тарифа _Smart_. В течение года пользователи обоих тарифов увеличивают среднюю продолжительность своих разговоров. Рост средней длительности разговоров у абонентов тарифа _Smart_ равномерный в течение года. Пользователи тарифа _Ultra_ не проявляют подобной линейной стабильности.\n",
    "\n",
    "В среднем **количество смс** пользователи тарифа _Ultra_ отправляют больше - почти на 20 сообщений больше, чем пользователи тарифа _Smart_. Количество сообщений в течение года на обоих тарифах растет. Динамика по отправке сообщений схожа с тенденциями по длительности разговоров: в феврале отмечено наименьшее количество сообщений за год и пользователи тарифа _Ultra_ также проявляют нелинейную положительную динамику.\n",
    "\n",
    "Меньше всего пользователи использовали **интернет** в январе, феврале и апреле. Чаще всего абоненты тарифа Smart тратят 15-17 Гб, а абоненты тарифного плана _Ultra_ - 19-21 ГБ.\n",
    "\n",
    "По результату проверки поставленных гипотиз получается, что:\n",
    "- Общая выручка пользователей _\"Ультра\"_ **не равна** общей выручке пользователей _\"Смарт\"_\n",
    "- Общая выручка пользователей из Москвы **сопоставима** общей выручке пользователей за пределами Москвы."
   ]
  }
 ],
 "metadata": {
  "ExecuteTimeLog": [
   {
    "duration": 55,
    "start_time": "2022-11-17T08:20:05.215Z"
   },
   {
    "duration": 405,
    "start_time": "2022-11-17T08:20:11.887Z"
   },
   {
    "duration": 524,
    "start_time": "2022-11-17T08:20:14.183Z"
   },
   {
    "duration": 17,
    "start_time": "2022-11-17T08:21:06.480Z"
   },
   {
    "duration": 24,
    "start_time": "2022-11-17T08:32:24.649Z"
   },
   {
    "duration": 529,
    "start_time": "2022-11-17T08:33:00.216Z"
   },
   {
    "duration": 328,
    "start_time": "2022-11-17T08:33:31.847Z"
   },
   {
    "duration": 9,
    "start_time": "2022-11-17T08:33:47.143Z"
   },
   {
    "duration": 22,
    "start_time": "2022-11-17T08:34:10.111Z"
   },
   {
    "duration": 346,
    "start_time": "2022-11-17T08:34:26.559Z"
   },
   {
    "duration": 1989,
    "start_time": "2022-11-17T08:34:34.359Z"
   },
   {
    "duration": 260,
    "start_time": "2022-11-17T08:34:53.335Z"
   },
   {
    "duration": 334,
    "start_time": "2022-11-17T08:35:45.591Z"
   },
   {
    "duration": 8,
    "start_time": "2022-11-17T08:36:03.345Z"
   },
   {
    "duration": 19,
    "start_time": "2022-11-17T08:36:06.836Z"
   },
   {
    "duration": 84,
    "start_time": "2022-11-17T08:36:09.952Z"
   },
   {
    "duration": 9,
    "start_time": "2022-11-17T08:36:13.536Z"
   },
   {
    "duration": 8,
    "start_time": "2022-11-17T08:36:30.120Z"
   },
   {
    "duration": 9,
    "start_time": "2022-11-17T08:36:56.560Z"
   },
   {
    "duration": 35,
    "start_time": "2022-11-17T08:37:40.056Z"
   },
   {
    "duration": 89,
    "start_time": "2022-11-17T08:37:49.015Z"
   },
   {
    "duration": 9,
    "start_time": "2022-11-17T08:37:51.927Z"
   },
   {
    "duration": 12,
    "start_time": "2022-11-17T08:37:55.568Z"
   },
   {
    "duration": 10,
    "start_time": "2022-11-17T09:21:51.767Z"
   },
   {
    "duration": 11,
    "start_time": "2022-11-17T09:21:55.886Z"
   },
   {
    "duration": 8,
    "start_time": "2022-11-17T09:40:16.018Z"
   },
   {
    "duration": 69,
    "start_time": "2022-11-17T09:41:43.019Z"
   },
   {
    "duration": 7,
    "start_time": "2022-11-17T10:08:48.659Z"
   },
   {
    "duration": 19,
    "start_time": "2022-11-17T10:09:10.730Z"
   },
   {
    "duration": 5,
    "start_time": "2022-11-17T10:09:32.883Z"
   },
   {
    "duration": 18,
    "start_time": "2022-11-17T10:11:13.043Z"
   },
   {
    "duration": 3,
    "start_time": "2022-11-17T10:12:04.492Z"
   },
   {
    "duration": 388,
    "start_time": "2022-11-17T10:13:15.414Z"
   },
   {
    "duration": 171,
    "start_time": "2022-11-17T10:13:15.804Z"
   },
   {
    "duration": 14,
    "start_time": "2022-11-17T10:13:15.977Z"
   },
   {
    "duration": 23,
    "start_time": "2022-11-17T10:13:15.993Z"
   },
   {
    "duration": 343,
    "start_time": "2022-11-17T10:13:16.018Z"
   },
   {
    "duration": 128,
    "start_time": "2022-11-17T10:13:16.363Z"
   },
   {
    "duration": 11,
    "start_time": "2022-11-17T10:13:16.492Z"
   },
   {
    "duration": 26,
    "start_time": "2022-11-17T10:13:16.504Z"
   },
   {
    "duration": 244,
    "start_time": "2022-11-17T10:13:16.532Z"
   },
   {
    "duration": 85,
    "start_time": "2022-11-17T10:13:16.777Z"
   },
   {
    "duration": 7,
    "start_time": "2022-11-17T10:13:16.864Z"
   },
   {
    "duration": 20,
    "start_time": "2022-11-17T10:13:16.875Z"
   },
   {
    "duration": 28,
    "start_time": "2022-11-17T10:13:16.897Z"
   },
   {
    "duration": 7,
    "start_time": "2022-11-17T10:13:16.927Z"
   },
   {
    "duration": 14,
    "start_time": "2022-11-17T10:13:16.935Z"
   },
   {
    "duration": 31,
    "start_time": "2022-11-17T10:13:16.950Z"
   },
   {
    "duration": 8,
    "start_time": "2022-11-17T10:13:16.983Z"
   },
   {
    "duration": 14,
    "start_time": "2022-11-17T10:13:16.992Z"
   },
   {
    "duration": 75,
    "start_time": "2022-11-17T10:13:17.007Z"
   },
   {
    "duration": 6,
    "start_time": "2022-11-17T10:13:17.083Z"
   },
   {
    "duration": 4,
    "start_time": "2022-11-17T10:13:17.091Z"
   },
   {
    "duration": 6,
    "start_time": "2022-11-17T10:13:17.097Z"
   },
   {
    "duration": 11,
    "start_time": "2022-11-17T10:13:17.104Z"
   },
   {
    "duration": 4,
    "start_time": "2022-11-17T10:13:17.117Z"
   },
   {
    "duration": 4,
    "start_time": "2022-11-17T10:13:17.123Z"
   },
   {
    "duration": 6,
    "start_time": "2022-11-17T10:13:17.129Z"
   },
   {
    "duration": 7,
    "start_time": "2022-11-17T10:13:17.137Z"
   },
   {
    "duration": 13,
    "start_time": "2022-11-17T10:13:17.145Z"
   },
   {
    "duration": 10,
    "start_time": "2022-11-17T10:13:17.159Z"
   },
   {
    "duration": 84,
    "start_time": "2022-11-17T10:13:17.170Z"
   },
   {
    "duration": 0,
    "start_time": "2022-11-17T10:13:17.256Z"
   },
   {
    "duration": 0,
    "start_time": "2022-11-17T10:13:17.257Z"
   },
   {
    "duration": 0,
    "start_time": "2022-11-17T10:13:17.258Z"
   },
   {
    "duration": 0,
    "start_time": "2022-11-17T10:13:17.259Z"
   },
   {
    "duration": 0,
    "start_time": "2022-11-17T10:13:17.260Z"
   },
   {
    "duration": 0,
    "start_time": "2022-11-17T10:13:17.260Z"
   },
   {
    "duration": 0,
    "start_time": "2022-11-17T10:13:17.262Z"
   },
   {
    "duration": 0,
    "start_time": "2022-11-17T10:13:17.262Z"
   },
   {
    "duration": 0,
    "start_time": "2022-11-17T10:13:17.263Z"
   },
   {
    "duration": 0,
    "start_time": "2022-11-17T10:13:17.264Z"
   },
   {
    "duration": 0,
    "start_time": "2022-11-17T10:13:17.265Z"
   },
   {
    "duration": 0,
    "start_time": "2022-11-17T10:13:17.265Z"
   },
   {
    "duration": 0,
    "start_time": "2022-11-17T10:13:17.266Z"
   },
   {
    "duration": 0,
    "start_time": "2022-11-17T10:13:17.267Z"
   },
   {
    "duration": 0,
    "start_time": "2022-11-17T10:13:17.268Z"
   },
   {
    "duration": 0,
    "start_time": "2022-11-17T10:13:17.276Z"
   },
   {
    "duration": 0,
    "start_time": "2022-11-17T10:13:17.277Z"
   },
   {
    "duration": 0,
    "start_time": "2022-11-17T10:13:17.278Z"
   },
   {
    "duration": 0,
    "start_time": "2022-11-17T10:13:17.278Z"
   },
   {
    "duration": 0,
    "start_time": "2022-11-17T10:13:17.279Z"
   },
   {
    "duration": 6,
    "start_time": "2022-11-17T10:20:28.015Z"
   },
   {
    "duration": 9,
    "start_time": "2022-11-17T10:20:46.837Z"
   },
   {
    "duration": 9,
    "start_time": "2022-11-17T10:20:51.029Z"
   },
   {
    "duration": 10,
    "start_time": "2022-11-17T10:20:57.303Z"
   },
   {
    "duration": 8,
    "start_time": "2022-11-17T10:21:59.302Z"
   },
   {
    "duration": 366,
    "start_time": "2022-11-17T10:22:14.420Z"
   },
   {
    "duration": 187,
    "start_time": "2022-11-17T10:22:14.788Z"
   },
   {
    "duration": 13,
    "start_time": "2022-11-17T10:22:14.977Z"
   },
   {
    "duration": 60,
    "start_time": "2022-11-17T10:22:14.992Z"
   },
   {
    "duration": 385,
    "start_time": "2022-11-17T10:22:15.054Z"
   },
   {
    "duration": 134,
    "start_time": "2022-11-17T10:22:15.441Z"
   },
   {
    "duration": 10,
    "start_time": "2022-11-17T10:22:15.576Z"
   },
   {
    "duration": 32,
    "start_time": "2022-11-17T10:22:15.587Z"
   },
   {
    "duration": 237,
    "start_time": "2022-11-17T10:22:15.621Z"
   },
   {
    "duration": 96,
    "start_time": "2022-11-17T10:22:15.859Z"
   },
   {
    "duration": 7,
    "start_time": "2022-11-17T10:22:15.957Z"
   },
   {
    "duration": 33,
    "start_time": "2022-11-17T10:22:15.965Z"
   },
   {
    "duration": 17,
    "start_time": "2022-11-17T10:22:16.000Z"
   },
   {
    "duration": 7,
    "start_time": "2022-11-17T10:22:16.019Z"
   },
   {
    "duration": 21,
    "start_time": "2022-11-17T10:22:16.028Z"
   },
   {
    "duration": 32,
    "start_time": "2022-11-17T10:22:16.050Z"
   },
   {
    "duration": 8,
    "start_time": "2022-11-17T10:22:16.083Z"
   },
   {
    "duration": 10,
    "start_time": "2022-11-17T10:22:16.093Z"
   },
   {
    "duration": 80,
    "start_time": "2022-11-17T10:22:16.105Z"
   },
   {
    "duration": 9,
    "start_time": "2022-11-17T10:22:16.186Z"
   },
   {
    "duration": 10,
    "start_time": "2022-11-17T10:22:16.197Z"
   },
   {
    "duration": 7,
    "start_time": "2022-11-17T10:22:16.208Z"
   },
   {
    "duration": 6,
    "start_time": "2022-11-17T10:22:16.216Z"
   },
   {
    "duration": 7,
    "start_time": "2022-11-17T10:22:16.224Z"
   },
   {
    "duration": 5,
    "start_time": "2022-11-17T10:22:16.232Z"
   },
   {
    "duration": 8,
    "start_time": "2022-11-17T10:22:16.238Z"
   },
   {
    "duration": 6,
    "start_time": "2022-11-17T10:22:16.247Z"
   },
   {
    "duration": 8,
    "start_time": "2022-11-17T10:22:16.254Z"
   },
   {
    "duration": 8,
    "start_time": "2022-11-17T10:22:16.264Z"
   },
   {
    "duration": 68,
    "start_time": "2022-11-17T10:22:16.273Z"
   },
   {
    "duration": 0,
    "start_time": "2022-11-17T10:22:16.342Z"
   },
   {
    "duration": 0,
    "start_time": "2022-11-17T10:22:16.343Z"
   },
   {
    "duration": 0,
    "start_time": "2022-11-17T10:22:16.344Z"
   },
   {
    "duration": 0,
    "start_time": "2022-11-17T10:22:16.345Z"
   },
   {
    "duration": 0,
    "start_time": "2022-11-17T10:22:16.346Z"
   },
   {
    "duration": 0,
    "start_time": "2022-11-17T10:22:16.347Z"
   },
   {
    "duration": 0,
    "start_time": "2022-11-17T10:22:16.348Z"
   },
   {
    "duration": 0,
    "start_time": "2022-11-17T10:22:16.349Z"
   },
   {
    "duration": 0,
    "start_time": "2022-11-17T10:22:16.350Z"
   },
   {
    "duration": 0,
    "start_time": "2022-11-17T10:22:16.351Z"
   },
   {
    "duration": 0,
    "start_time": "2022-11-17T10:22:16.352Z"
   },
   {
    "duration": 0,
    "start_time": "2022-11-17T10:22:16.352Z"
   },
   {
    "duration": 0,
    "start_time": "2022-11-17T10:22:16.353Z"
   },
   {
    "duration": 0,
    "start_time": "2022-11-17T10:22:16.354Z"
   },
   {
    "duration": 0,
    "start_time": "2022-11-17T10:22:16.355Z"
   },
   {
    "duration": 0,
    "start_time": "2022-11-17T10:22:16.356Z"
   },
   {
    "duration": 0,
    "start_time": "2022-11-17T10:22:16.376Z"
   },
   {
    "duration": 0,
    "start_time": "2022-11-17T10:22:16.377Z"
   },
   {
    "duration": 0,
    "start_time": "2022-11-17T10:22:16.378Z"
   },
   {
    "duration": 0,
    "start_time": "2022-11-17T10:22:16.378Z"
   },
   {
    "duration": 9,
    "start_time": "2022-11-17T10:22:46.453Z"
   },
   {
    "duration": 8,
    "start_time": "2022-11-17T10:24:53.337Z"
   },
   {
    "duration": 14,
    "start_time": "2022-11-17T10:26:46.843Z"
   },
   {
    "duration": 9,
    "start_time": "2022-11-17T10:26:58.003Z"
   },
   {
    "duration": 26,
    "start_time": "2022-11-17T10:35:14.250Z"
   },
   {
    "duration": 877,
    "start_time": "2022-11-17T10:38:23.499Z"
   },
   {
    "duration": 15,
    "start_time": "2022-11-17T10:38:59.147Z"
   },
   {
    "duration": 19,
    "start_time": "2022-11-17T10:40:05.171Z"
   },
   {
    "duration": 18,
    "start_time": "2022-11-17T10:42:55.061Z"
   },
   {
    "duration": 22,
    "start_time": "2022-11-17T10:43:23.567Z"
   },
   {
    "duration": 33,
    "start_time": "2022-11-17T10:51:22.571Z"
   },
   {
    "duration": 32,
    "start_time": "2022-11-17T10:52:02.403Z"
   },
   {
    "duration": 11,
    "start_time": "2022-11-17T11:00:08.138Z"
   },
   {
    "duration": 4,
    "start_time": "2022-11-17T11:06:49.883Z"
   },
   {
    "duration": 20,
    "start_time": "2022-11-17T11:07:39.652Z"
   },
   {
    "duration": 8,
    "start_time": "2022-11-17T11:07:43.724Z"
   },
   {
    "duration": 44,
    "start_time": "2022-11-17T15:13:55.559Z"
   },
   {
    "duration": 371,
    "start_time": "2022-11-17T15:14:15.928Z"
   },
   {
    "duration": 533,
    "start_time": "2022-11-17T15:14:16.301Z"
   },
   {
    "duration": 14,
    "start_time": "2022-11-17T15:14:16.835Z"
   },
   {
    "duration": 29,
    "start_time": "2022-11-17T15:14:16.851Z"
   },
   {
    "duration": 529,
    "start_time": "2022-11-17T15:14:16.882Z"
   },
   {
    "duration": 493,
    "start_time": "2022-11-17T15:14:17.413Z"
   },
   {
    "duration": 9,
    "start_time": "2022-11-17T15:14:17.908Z"
   },
   {
    "duration": 29,
    "start_time": "2022-11-17T15:14:17.918Z"
   },
   {
    "duration": 236,
    "start_time": "2022-11-17T15:14:17.948Z"
   },
   {
    "duration": 326,
    "start_time": "2022-11-17T15:14:18.188Z"
   },
   {
    "duration": 7,
    "start_time": "2022-11-17T15:14:18.515Z"
   },
   {
    "duration": 20,
    "start_time": "2022-11-17T15:14:18.523Z"
   },
   {
    "duration": 82,
    "start_time": "2022-11-17T15:14:18.544Z"
   },
   {
    "duration": 7,
    "start_time": "2022-11-17T15:14:18.628Z"
   },
   {
    "duration": 65,
    "start_time": "2022-11-17T15:14:18.636Z"
   },
   {
    "duration": 69,
    "start_time": "2022-11-17T15:14:18.703Z"
   },
   {
    "duration": 9,
    "start_time": "2022-11-17T15:14:18.773Z"
   },
   {
    "duration": 11,
    "start_time": "2022-11-17T15:14:18.784Z"
   },
   {
    "duration": 80,
    "start_time": "2022-11-17T15:14:18.797Z"
   },
   {
    "duration": 8,
    "start_time": "2022-11-17T15:14:18.878Z"
   },
   {
    "duration": 17,
    "start_time": "2022-11-17T15:14:18.887Z"
   },
   {
    "duration": 24,
    "start_time": "2022-11-17T15:14:18.905Z"
   },
   {
    "duration": 13,
    "start_time": "2022-11-17T15:14:18.930Z"
   },
   {
    "duration": 16,
    "start_time": "2022-11-17T15:14:18.944Z"
   },
   {
    "duration": 44,
    "start_time": "2022-11-17T15:14:18.961Z"
   },
   {
    "duration": 7,
    "start_time": "2022-11-17T15:14:19.007Z"
   },
   {
    "duration": 27,
    "start_time": "2022-11-17T15:14:19.017Z"
   },
   {
    "duration": 8,
    "start_time": "2022-11-17T15:14:19.048Z"
   },
   {
    "duration": 15,
    "start_time": "2022-11-17T15:14:19.058Z"
   },
   {
    "duration": 5,
    "start_time": "2022-11-17T15:14:19.075Z"
   },
   {
    "duration": 16,
    "start_time": "2022-11-17T15:14:19.081Z"
   },
   {
    "duration": 7,
    "start_time": "2022-11-17T15:14:19.098Z"
   },
   {
    "duration": 8,
    "start_time": "2022-11-17T15:14:19.107Z"
   },
   {
    "duration": 81,
    "start_time": "2022-11-17T15:14:19.117Z"
   },
   {
    "duration": 0,
    "start_time": "2022-11-17T15:14:19.200Z"
   },
   {
    "duration": 0,
    "start_time": "2022-11-17T15:14:19.201Z"
   },
   {
    "duration": 1,
    "start_time": "2022-11-17T15:14:19.203Z"
   },
   {
    "duration": 0,
    "start_time": "2022-11-17T15:14:19.205Z"
   },
   {
    "duration": 0,
    "start_time": "2022-11-17T15:14:19.206Z"
   },
   {
    "duration": 0,
    "start_time": "2022-11-17T15:14:19.208Z"
   },
   {
    "duration": 0,
    "start_time": "2022-11-17T15:14:19.209Z"
   },
   {
    "duration": 0,
    "start_time": "2022-11-17T15:14:19.210Z"
   },
   {
    "duration": 0,
    "start_time": "2022-11-17T15:14:19.212Z"
   },
   {
    "duration": 0,
    "start_time": "2022-11-17T15:14:19.213Z"
   },
   {
    "duration": 0,
    "start_time": "2022-11-17T15:14:19.214Z"
   },
   {
    "duration": 0,
    "start_time": "2022-11-17T15:14:19.215Z"
   },
   {
    "duration": 0,
    "start_time": "2022-11-17T15:14:19.216Z"
   },
   {
    "duration": 0,
    "start_time": "2022-11-17T15:14:19.218Z"
   },
   {
    "duration": 0,
    "start_time": "2022-11-17T15:14:19.219Z"
   },
   {
    "duration": 0,
    "start_time": "2022-11-17T15:14:19.221Z"
   },
   {
    "duration": 0,
    "start_time": "2022-11-17T15:14:19.222Z"
   },
   {
    "duration": 0,
    "start_time": "2022-11-17T15:14:19.223Z"
   },
   {
    "duration": 0,
    "start_time": "2022-11-17T15:14:19.225Z"
   },
   {
    "duration": 0,
    "start_time": "2022-11-17T15:14:19.227Z"
   },
   {
    "duration": 13,
    "start_time": "2022-11-17T15:41:27.021Z"
   },
   {
    "duration": 19,
    "start_time": "2022-11-17T15:41:41.039Z"
   },
   {
    "duration": 9,
    "start_time": "2022-11-17T15:41:43.701Z"
   },
   {
    "duration": 18,
    "start_time": "2022-11-17T15:48:30.965Z"
   },
   {
    "duration": 8,
    "start_time": "2022-11-17T15:48:35.550Z"
   },
   {
    "duration": 17,
    "start_time": "2022-11-17T17:45:18.916Z"
   },
   {
    "duration": 8,
    "start_time": "2022-11-17T17:45:22.558Z"
   },
   {
    "duration": 31,
    "start_time": "2022-11-17T17:45:28.611Z"
   },
   {
    "duration": 10,
    "start_time": "2022-11-17T18:19:34.120Z"
   },
   {
    "duration": 6,
    "start_time": "2022-11-17T18:20:56.455Z"
   },
   {
    "duration": 3,
    "start_time": "2022-11-17T18:21:47.808Z"
   },
   {
    "duration": 8,
    "start_time": "2022-11-17T18:22:33.727Z"
   },
   {
    "duration": 8,
    "start_time": "2022-11-17T18:23:16.841Z"
   },
   {
    "duration": 5,
    "start_time": "2022-11-17T18:23:46.160Z"
   },
   {
    "duration": 6,
    "start_time": "2022-11-17T18:23:59.850Z"
   },
   {
    "duration": 4,
    "start_time": "2022-11-17T18:24:43.529Z"
   },
   {
    "duration": 51,
    "start_time": "2022-11-17T18:26:19.494Z"
   },
   {
    "duration": 747,
    "start_time": "2022-11-17T18:27:43.373Z"
   },
   {
    "duration": 297,
    "start_time": "2022-11-17T18:31:02.091Z"
   },
   {
    "duration": 248,
    "start_time": "2022-11-17T18:34:58.085Z"
   },
   {
    "duration": 314,
    "start_time": "2022-11-17T18:35:41.757Z"
   },
   {
    "duration": 215,
    "start_time": "2022-11-17T18:37:04.798Z"
   },
   {
    "duration": 33,
    "start_time": "2022-11-17T18:41:20.849Z"
   },
   {
    "duration": 51,
    "start_time": "2022-11-17T19:12:42.475Z"
   },
   {
    "duration": 240,
    "start_time": "2022-11-17T19:14:04.802Z"
   },
   {
    "duration": 190,
    "start_time": "2022-11-17T19:14:37.612Z"
   },
   {
    "duration": 385,
    "start_time": "2022-11-17T19:14:47.115Z"
   },
   {
    "duration": 43,
    "start_time": "2022-11-18T17:42:14.256Z"
   },
   {
    "duration": 417,
    "start_time": "2022-11-18T17:42:36.473Z"
   },
   {
    "duration": 595,
    "start_time": "2022-11-18T17:42:36.891Z"
   },
   {
    "duration": 25,
    "start_time": "2022-11-18T17:42:37.489Z"
   },
   {
    "duration": 136,
    "start_time": "2022-11-18T17:42:37.516Z"
   },
   {
    "duration": 610,
    "start_time": "2022-11-18T17:42:37.655Z"
   },
   {
    "duration": 461,
    "start_time": "2022-11-18T17:42:38.267Z"
   },
   {
    "duration": 12,
    "start_time": "2022-11-18T17:42:38.730Z"
   },
   {
    "duration": 51,
    "start_time": "2022-11-18T17:42:38.744Z"
   },
   {
    "duration": 255,
    "start_time": "2022-11-18T17:42:38.797Z"
   },
   {
    "duration": 169,
    "start_time": "2022-11-18T17:42:39.054Z"
   },
   {
    "duration": 9,
    "start_time": "2022-11-18T17:42:39.225Z"
   },
   {
    "duration": 44,
    "start_time": "2022-11-18T17:42:39.236Z"
   },
   {
    "duration": 92,
    "start_time": "2022-11-18T17:42:39.282Z"
   },
   {
    "duration": 8,
    "start_time": "2022-11-18T17:42:39.376Z"
   },
   {
    "duration": 93,
    "start_time": "2022-11-18T17:42:39.385Z"
   },
   {
    "duration": 94,
    "start_time": "2022-11-18T17:42:39.479Z"
   },
   {
    "duration": 9,
    "start_time": "2022-11-18T17:42:39.575Z"
   },
   {
    "duration": 41,
    "start_time": "2022-11-18T17:42:39.586Z"
   },
   {
    "duration": 109,
    "start_time": "2022-11-18T17:42:39.629Z"
   },
   {
    "duration": 7,
    "start_time": "2022-11-18T17:42:39.740Z"
   },
   {
    "duration": 31,
    "start_time": "2022-11-18T17:42:39.749Z"
   },
   {
    "duration": 37,
    "start_time": "2022-11-18T17:42:39.782Z"
   },
   {
    "duration": 17,
    "start_time": "2022-11-18T17:42:39.821Z"
   },
   {
    "duration": 25,
    "start_time": "2022-11-18T17:42:39.840Z"
   },
   {
    "duration": 50,
    "start_time": "2022-11-18T17:42:39.867Z"
   },
   {
    "duration": 11,
    "start_time": "2022-11-18T17:42:39.919Z"
   },
   {
    "duration": 34,
    "start_time": "2022-11-18T17:42:39.931Z"
   },
   {
    "duration": 31,
    "start_time": "2022-11-18T17:42:39.967Z"
   },
   {
    "duration": 35,
    "start_time": "2022-11-18T17:42:39.999Z"
   },
   {
    "duration": 20,
    "start_time": "2022-11-18T17:42:40.035Z"
   },
   {
    "duration": 27,
    "start_time": "2022-11-18T17:42:40.057Z"
   },
   {
    "duration": 9,
    "start_time": "2022-11-18T17:42:40.086Z"
   },
   {
    "duration": 22,
    "start_time": "2022-11-18T17:42:40.096Z"
   },
   {
    "duration": 41,
    "start_time": "2022-11-18T17:42:40.120Z"
   },
   {
    "duration": 7,
    "start_time": "2022-11-18T17:42:40.163Z"
   },
   {
    "duration": 6,
    "start_time": "2022-11-18T17:42:40.171Z"
   },
   {
    "duration": 8,
    "start_time": "2022-11-18T17:42:40.178Z"
   },
   {
    "duration": 34,
    "start_time": "2022-11-18T17:42:40.188Z"
   },
   {
    "duration": 11,
    "start_time": "2022-11-18T17:42:40.224Z"
   },
   {
    "duration": 8,
    "start_time": "2022-11-18T17:42:40.237Z"
   },
   {
    "duration": 13,
    "start_time": "2022-11-18T17:42:40.248Z"
   },
   {
    "duration": 6,
    "start_time": "2022-11-18T17:42:40.263Z"
   },
   {
    "duration": 75,
    "start_time": "2022-11-18T17:42:40.271Z"
   },
   {
    "duration": 45,
    "start_time": "2022-11-18T17:42:40.348Z"
   },
   {
    "duration": 779,
    "start_time": "2022-11-18T17:42:40.405Z"
   },
   {
    "duration": 344,
    "start_time": "2022-11-18T17:42:41.186Z"
   },
   {
    "duration": 300,
    "start_time": "2022-11-18T17:42:41.531Z"
   },
   {
    "duration": 213,
    "start_time": "2022-11-18T17:42:41.832Z"
   },
   {
    "duration": 263,
    "start_time": "2022-11-18T17:42:42.047Z"
   },
   {
    "duration": 187,
    "start_time": "2022-11-18T17:42:42.315Z"
   },
   {
    "duration": 288,
    "start_time": "2022-11-18T17:42:42.506Z"
   },
   {
    "duration": 302,
    "start_time": "2022-11-18T17:42:42.796Z"
   },
   {
    "duration": 8,
    "start_time": "2022-11-18T17:42:43.108Z"
   },
   {
    "duration": 7,
    "start_time": "2022-11-18T17:42:43.118Z"
   },
   {
    "duration": 5,
    "start_time": "2022-11-18T17:42:43.127Z"
   },
   {
    "duration": 87,
    "start_time": "2022-11-18T18:00:53.211Z"
   },
   {
    "duration": 127,
    "start_time": "2022-11-18T18:15:25.960Z"
   },
   {
    "duration": 257,
    "start_time": "2022-11-18T18:15:37.182Z"
   },
   {
    "duration": 213,
    "start_time": "2022-11-18T18:16:42.715Z"
   },
   {
    "duration": 116,
    "start_time": "2022-11-18T18:21:24.799Z"
   },
   {
    "duration": 8,
    "start_time": "2022-11-18T18:21:44.038Z"
   },
   {
    "duration": 218,
    "start_time": "2022-11-18T18:30:09.390Z"
   },
   {
    "duration": 11,
    "start_time": "2022-11-18T18:32:34.423Z"
   }
  ],
  "colab": {
   "provenance": [],
   "toc_visible": true
  },
  "kernelspec": {
   "display_name": "Python 3",
   "language": "python",
   "name": "python3"
  },
  "language_info": {
   "codemirror_mode": {
    "name": "ipython",
    "version": 3
   },
   "file_extension": ".py",
   "mimetype": "text/x-python",
   "name": "python",
   "nbconvert_exporter": "python",
   "pygments_lexer": "ipython3",
   "version": "3.11.5"
  },
  "toc": {
   "base_numbering": 1,
   "nav_menu": {},
   "number_sections": true,
   "sideBar": true,
   "skip_h1_title": true,
   "title_cell": "Table of Contents",
   "title_sidebar": "Contents",
   "toc_cell": false,
   "toc_position": {},
   "toc_section_display": true,
   "toc_window_display": false
  }
 },
 "nbformat": 4,
 "nbformat_minor": 1
}
